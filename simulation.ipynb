{
 "cells": [
  {
   "cell_type": "code",
   "execution_count": 1,
   "id": "dea9d4c2",
   "metadata": {},
   "outputs": [],
   "source": [
    "\n"
   ]
  },
  {
   "cell_type": "code",
   "execution_count": 2,
   "id": "710ee88f",
   "metadata": {},
   "outputs": [
    {
     "ename": "ModuleNotFoundError",
     "evalue": "No module named 'viz'",
     "output_type": "error",
     "traceback": [
      "\u001b[0;31m---------------------------------------------------------------------------\u001b[0m",
      "\u001b[0;31mModuleNotFoundError\u001b[0m                       Traceback (most recent call last)",
      "Input \u001b[0;32mIn [2]\u001b[0m, in \u001b[0;36m<cell line: 5>\u001b[0;34m()\u001b[0m\n\u001b[1;32m      2\u001b[0m \u001b[38;5;28;01mimport\u001b[39;00m \u001b[38;5;21;01mnumpy\u001b[39;00m \u001b[38;5;28;01mas\u001b[39;00m \u001b[38;5;21;01mnp\u001b[39;00m\n\u001b[1;32m      3\u001b[0m \u001b[38;5;28;01mimport\u001b[39;00m \u001b[38;5;21;01mpandas\u001b[39;00m \u001b[38;5;28;01mas\u001b[39;00m \u001b[38;5;21;01mpd\u001b[39;00m\n\u001b[0;32m----> 5\u001b[0m \u001b[38;5;28;01mimport\u001b[39;00m \u001b[38;5;21;01mviz\u001b[39;00m\n",
      "\u001b[0;31mModuleNotFoundError\u001b[0m: No module named 'viz'"
     ]
    }
   ],
   "source": [
    "%matplotlib inline\n",
    "import numpy as np\n",
    "import pandas as pd\n",
    "\n",
    "import viz # curriculum example visualizations\n"
   ]
  },
  {
   "cell_type": "code",
   "execution_count": null,
   "id": "2a9084e3",
   "metadata": {},
   "outputs": [],
   "source": [
    "#How likely is it that you roll doubles when rolling two dice?"
   ]
  },
  {
   "cell_type": "code",
   "execution_count": 5,
   "id": "035dc466",
   "metadata": {},
   "outputs": [],
   "source": [
    "outcomes = [1,2,3,4,5,6]"
   ]
  },
  {
   "cell_type": "code",
   "execution_count": 12,
   "id": "3c35d9aa",
   "metadata": {},
   "outputs": [],
   "source": [
    "rolls = np.random.choice(outcomes,10000 * 2).reshape(10000,2)"
   ]
  },
  {
   "cell_type": "raw",
   "id": "1097e1d0",
   "metadata": {},
   "source": []
  },
  {
   "cell_type": "code",
   "execution_count": 35,
   "id": "2c5abc02",
   "metadata": {},
   "outputs": [
    {
     "data": {
      "text/plain": [
       "array([[4, 1],\n",
       "       [1, 5],\n",
       "       [5, 5],\n",
       "       ...,\n",
       "       [2, 5],\n",
       "       [4, 6],\n",
       "       [1, 3]])"
      ]
     },
     "execution_count": 35,
     "metadata": {},
     "output_type": "execute_result"
    }
   ],
   "source": [
    "rolls"
   ]
  },
  {
   "cell_type": "code",
   "execution_count": 43,
   "id": "c3272ddf",
   "metadata": {},
   "outputs": [],
   "source": [
    "df = pd.DataFrame(rolls)"
   ]
  },
  {
   "cell_type": "code",
   "execution_count": null,
   "id": "103470a1",
   "metadata": {},
   "outputs": [],
   "source": []
  },
  {
   "cell_type": "code",
   "execution_count": 51,
   "id": "5a60107a",
   "metadata": {},
   "outputs": [],
   "source": [
    "dubs = df[df[0] == df[1]]"
   ]
  },
  {
   "cell_type": "code",
   "execution_count": 55,
   "id": "717982ae",
   "metadata": {},
   "outputs": [
    {
     "data": {
      "text/plain": [
       "0.1641"
      ]
     },
     "execution_count": 55,
     "metadata": {},
     "output_type": "execute_result"
    }
   ],
   "source": [
    "dubs[0].count()/df[0].count()"
   ]
  },
  {
   "cell_type": "code",
   "execution_count": 56,
   "id": "9e4648a5",
   "metadata": {},
   "outputs": [],
   "source": [
    "#chance of rolling dubs is .1641"
   ]
  },
  {
   "cell_type": "code",
   "execution_count": null,
   "id": "7be4831e",
   "metadata": {},
   "outputs": [],
   "source": []
  },
  {
   "cell_type": "code",
   "execution_count": 57,
   "id": "30594636",
   "metadata": {},
   "outputs": [],
   "source": [
    "#If you flip 8 coins, what is the probability of getting exactly 3 heads?"
   ]
  },
  {
   "cell_type": "code",
   "execution_count": 58,
   "id": "4d8ff42e",
   "metadata": {},
   "outputs": [],
   "source": [
    "outcomes = ['H','T']"
   ]
  },
  {
   "cell_type": "code",
   "execution_count": 91,
   "id": "01a4990a",
   "metadata": {},
   "outputs": [],
   "source": [
    "flips = np.random.choice(outcomes,10000 * 8).reshape(10000,8)"
   ]
  },
  {
   "cell_type": "code",
   "execution_count": 61,
   "id": "57db9cf1",
   "metadata": {},
   "outputs": [],
   "source": [
    "df = pd.DataFrame(flips)"
   ]
  },
  {
   "cell_type": "code",
   "execution_count": null,
   "id": "e54e750a",
   "metadata": {},
   "outputs": [],
   "source": []
  },
  {
   "cell_type": "code",
   "execution_count": 93,
   "id": "078cd708",
   "metadata": {},
   "outputs": [
    {
     "data": {
      "text/plain": [
       "array([5, 3, 1, ..., 2, 7, 3])"
      ]
     },
     "execution_count": 93,
     "metadata": {},
     "output_type": "execute_result"
    }
   ],
   "source": [
    "head_count = (flips == 'H').sum(axis=1)\n",
    "head_count"
   ]
  },
  {
   "cell_type": "code",
   "execution_count": 104,
   "id": "962154e7",
   "metadata": {},
   "outputs": [
    {
     "data": {
      "text/plain": [
       "0.2237"
      ]
     },
     "execution_count": 104,
     "metadata": {},
     "output_type": "execute_result"
    }
   ],
   "source": [
    "(head_count == 3).mean()"
   ]
  },
  {
   "cell_type": "code",
   "execution_count": 105,
   "id": "9052648f",
   "metadata": {},
   "outputs": [],
   "source": [
    "#.2237 chance that you roll 3 heads"
   ]
  },
  {
   "cell_type": "code",
   "execution_count": 106,
   "id": "5ba477d1",
   "metadata": {},
   "outputs": [],
   "source": [
    "#What are the odds you get more than 3 heads?"
   ]
  },
  {
   "cell_type": "code",
   "execution_count": 107,
   "id": "721443cd",
   "metadata": {},
   "outputs": [
    {
     "data": {
      "text/plain": [
       "0.8576"
      ]
     },
     "execution_count": 107,
     "metadata": {},
     "output_type": "execute_result"
    }
   ],
   "source": [
    "(head_count >= 3).mean()"
   ]
  },
  {
   "cell_type": "code",
   "execution_count": 108,
   "id": "418d95ef",
   "metadata": {},
   "outputs": [],
   "source": [
    "#.8576 chance that you roll more than 3 heads"
   ]
  },
  {
   "cell_type": "code",
   "execution_count": 109,
   "id": "2eb1e400",
   "metadata": {},
   "outputs": [],
   "source": [
    "#There are approximitely 3 web development cohorts for every 1 data science cohort at Codeup. Assuming that Codeup randomly selects an alumni to put on a billboard, what are the odds that the two billboards I drive past both have data science students on them?"
   ]
  },
  {
   "cell_type": "code",
   "execution_count": 110,
   "id": "7a568e26",
   "metadata": {},
   "outputs": [],
   "source": [
    "outcomes = ['W','W','W','D']"
   ]
  },
  {
   "cell_type": "code",
   "execution_count": 111,
   "id": "c1ad326b",
   "metadata": {},
   "outputs": [],
   "source": [
    "ad = np.random.choice(outcomes, 10000 * 2).reshape(10000,2)"
   ]
  },
  {
   "cell_type": "code",
   "execution_count": 112,
   "id": "3f36f941",
   "metadata": {},
   "outputs": [
    {
     "data": {
      "text/plain": [
       "array([['W', 'W'],\n",
       "       ['D', 'W'],\n",
       "       ['W', 'W'],\n",
       "       ...,\n",
       "       ['W', 'W'],\n",
       "       ['W', 'W'],\n",
       "       ['W', 'W']], dtype='<U1')"
      ]
     },
     "execution_count": 112,
     "metadata": {},
     "output_type": "execute_result"
    }
   ],
   "source": [
    "ad"
   ]
  },
  {
   "cell_type": "code",
   "execution_count": 114,
   "id": "60240d06",
   "metadata": {},
   "outputs": [],
   "source": [
    "df = pd.DataFrame(ad)"
   ]
  },
  {
   "cell_type": "code",
   "execution_count": 121,
   "id": "f71c8066",
   "metadata": {},
   "outputs": [],
   "source": [
    "rep = df[(df[0]== 'D') & (df[1] == 'D')]"
   ]
  },
  {
   "cell_type": "raw",
   "id": "77196533",
   "metadata": {},
   "source": []
  },
  {
   "cell_type": "code",
   "execution_count": 124,
   "id": "c86b75c2",
   "metadata": {},
   "outputs": [
    {
     "data": {
      "text/plain": [
       "0.0614"
      ]
     },
     "execution_count": 124,
     "metadata": {},
     "output_type": "execute_result"
    }
   ],
   "source": [
    "rep[0].count()/df[0].count()"
   ]
  },
  {
   "cell_type": "code",
   "execution_count": 125,
   "id": "7ce2e550",
   "metadata": {},
   "outputs": [],
   "source": [
    "#Codeup students buy, on average, 3 poptart packages with a standard deviation of 1.5 a day from the snack vending machine. If on monday the machine is restocked with 17 poptart packages, how likely is it that I will be able to buy some poptarts on Friday afternoon? (Remember, if you have mean and standard deviation, use the np.random.normal) You'll need to make a judgement call on how to handle some of your values"
   ]
  },
  {
   "cell_type": "code",
   "execution_count": 211,
   "id": "52b5a764",
   "metadata": {},
   "outputs": [],
   "source": [
    "poptarts = np.random.normal(3,1.5,size=10000)"
   ]
  },
  {
   "cell_type": "code",
   "execution_count": null,
   "id": "895c40ce",
   "metadata": {},
   "outputs": [],
   "source": []
  },
  {
   "cell_type": "code",
   "execution_count": 212,
   "id": "860c8d70",
   "metadata": {},
   "outputs": [],
   "source": [
    "answer = (poptarts * 4.5) <= 16"
   ]
  },
  {
   "cell_type": "raw",
   "id": "88c5760e",
   "metadata": {},
   "source": []
  },
  {
   "cell_type": "code",
   "execution_count": 213,
   "id": "08b46a47",
   "metadata": {},
   "outputs": [
    {
     "data": {
      "text/plain": [
       "0.6455"
      ]
     },
     "execution_count": 213,
     "metadata": {},
     "output_type": "execute_result"
    }
   ],
   "source": [
    "answer.mean()"
   ]
  },
  {
   "cell_type": "code",
   "execution_count": null,
   "id": "313b8631",
   "metadata": {},
   "outputs": [],
   "source": [
    "#there is about a 65% chance you can get a poptart on friday afternoon"
   ]
  },
  {
   "cell_type": "code",
   "execution_count": 165,
   "id": "7fecf1df",
   "metadata": {},
   "outputs": [],
   "source": [
    "#Compare Heights\n",
    "\n",
    "#Men have an average height of 178 cm and standard deviation of 8cm.\n",
    "#Women have a mean of 170, sd = 6cm.\n",
    "#Since you have means and standard deviations, you can use np.random.normal to generate observations.\n",
    "#If a man and woman are chosen at random, what is the likelihood the woman is taller than the man?\n"
   ]
  },
  {
   "cell_type": "code",
   "execution_count": 193,
   "id": "64ecf707",
   "metadata": {},
   "outputs": [],
   "source": [
    "man_heights = np.random.normal(178,8,size = 10000)\n",
    "woman_heights = np.random.normal(170,6,size = 10000)"
   ]
  },
  {
   "cell_type": "code",
   "execution_count": 194,
   "id": "38ecd3b0",
   "metadata": {},
   "outputs": [],
   "source": [
    "answer = woman_heights > man_heights"
   ]
  },
  {
   "cell_type": "code",
   "execution_count": 195,
   "id": "72e082d7",
   "metadata": {},
   "outputs": [
    {
     "data": {
      "text/plain": [
       "0.2179"
      ]
     },
     "execution_count": 195,
     "metadata": {},
     "output_type": "execute_result"
    }
   ],
   "source": [
    "answer.mean()"
   ]
  },
  {
   "cell_type": "code",
   "execution_count": 196,
   "id": "97c0db4d",
   "metadata": {},
   "outputs": [],
   "source": [
    "#there is about a 21% chance a random woman is taller than a random man"
   ]
  },
  {
   "cell_type": "code",
   "execution_count": 197,
   "id": "bd7546b6",
   "metadata": {},
   "outputs": [],
   "source": [
    "#When installing anaconda on a student's computer, there's a 1 in 250 chance that the download is corrupted and the installation fails. What are the odds that after having 50 students download anaconda, no one has an installation issue?"
   ]
  },
  {
   "cell_type": "code",
   "execution_count": 198,
   "id": "a9fb5ba0",
   "metadata": {},
   "outputs": [],
   "source": [
    "# odds 1/250 "
   ]
  },
  {
   "cell_type": "code",
   "execution_count": 235,
   "id": "14c2b0ea",
   "metadata": {},
   "outputs": [
    {
     "data": {
      "text/plain": [
       "0.004"
      ]
     },
     "execution_count": 235,
     "metadata": {},
     "output_type": "execute_result"
    }
   ],
   "source": [
    "1/250"
   ]
  },
  {
   "cell_type": "code",
   "execution_count": 236,
   "id": "2f2d46cb",
   "metadata": {},
   "outputs": [],
   "source": [
    "p = .004"
   ]
  },
  {
   "cell_type": "code",
   "execution_count": 255,
   "id": "92fc0921",
   "metadata": {},
   "outputs": [],
   "source": [
    "downloads = np.random.random((10000,50))"
   ]
  },
  {
   "cell_type": "code",
   "execution_count": null,
   "id": "17bf7ebb",
   "metadata": {},
   "outputs": [],
   "source": []
  },
  {
   "cell_type": "code",
   "execution_count": 248,
   "id": "8de04b46",
   "metadata": {},
   "outputs": [],
   "source": [
    "success = (downloads > .004).sum(axis=1) == 50"
   ]
  },
  {
   "cell_type": "code",
   "execution_count": null,
   "id": "39cdc0e8",
   "metadata": {},
   "outputs": [],
   "source": []
  },
  {
   "cell_type": "code",
   "execution_count": 226,
   "id": "c40e037a",
   "metadata": {},
   "outputs": [],
   "source": []
  },
  {
   "cell_type": "code",
   "execution_count": 250,
   "id": "dfda50fb",
   "metadata": {},
   "outputs": [
    {
     "data": {
      "text/plain": [
       "0.8135"
      ]
     },
     "execution_count": 250,
     "metadata": {},
     "output_type": "execute_result"
    }
   ],
   "source": [
    "success.mean()"
   ]
  },
  {
   "cell_type": "code",
   "execution_count": null,
   "id": "00beb4bd",
   "metadata": {},
   "outputs": [],
   "source": [
    "#81% chance everyone downloads"
   ]
  },
  {
   "cell_type": "code",
   "execution_count": 252,
   "id": "3b0e777b",
   "metadata": {},
   "outputs": [],
   "source": [
    "#100  "
   ]
  },
  {
   "cell_type": "code",
   "execution_count": 258,
   "id": "d32a8b74",
   "metadata": {},
   "outputs": [],
   "source": [
    "downloads = np.random.random((10000,100))"
   ]
  },
  {
   "cell_type": "code",
   "execution_count": 259,
   "id": "4b24a66d",
   "metadata": {},
   "outputs": [],
   "source": [
    "success = (downloads > .004).sum(axis=1) == 100"
   ]
  },
  {
   "cell_type": "code",
   "execution_count": 260,
   "id": "c47d3327",
   "metadata": {},
   "outputs": [
    {
     "data": {
      "text/plain": [
       "0.6623"
      ]
     },
     "execution_count": 260,
     "metadata": {},
     "output_type": "execute_result"
    }
   ],
   "source": [
    "success.mean()"
   ]
  },
  {
   "cell_type": "code",
   "execution_count": 261,
   "id": "12f68fda",
   "metadata": {},
   "outputs": [],
   "source": [
    "#66%chance everyone downloads"
   ]
  },
  {
   "cell_type": "code",
   "execution_count": 262,
   "id": "658deac6",
   "metadata": {},
   "outputs": [],
   "source": [
    "#What is the probability that we observe an installation issue within the first 150 students that download anaconda?"
   ]
  },
  {
   "cell_type": "code",
   "execution_count": 263,
   "id": "ee73e708",
   "metadata": {},
   "outputs": [],
   "source": [
    "downloads = np.random.random((10000,150))"
   ]
  },
  {
   "cell_type": "code",
   "execution_count": 264,
   "id": "e671fe98",
   "metadata": {},
   "outputs": [],
   "source": [
    "failure = (downloads<.004).sum(axis=1) >=1"
   ]
  },
  {
   "cell_type": "code",
   "execution_count": 265,
   "id": "95f464ab",
   "metadata": {},
   "outputs": [
    {
     "data": {
      "text/plain": [
       "0.4505"
      ]
     },
     "execution_count": 265,
     "metadata": {},
     "output_type": "execute_result"
    }
   ],
   "source": [
    "failure.mean()"
   ]
  },
  {
   "cell_type": "code",
   "execution_count": 266,
   "id": "92fc0e95",
   "metadata": {},
   "outputs": [],
   "source": [
    "#there is about a 45% chance someone will fail a download out of 150 students"
   ]
  },
  {
   "cell_type": "code",
   "execution_count": 267,
   "id": "9e9fb2c6",
   "metadata": {},
   "outputs": [],
   "source": [
    "#How likely is it that 450 students all download anaconda without an issue?"
   ]
  },
  {
   "cell_type": "code",
   "execution_count": 270,
   "id": "72a8c67c",
   "metadata": {},
   "outputs": [],
   "source": [
    "downloads = np.random.random((10000,450))"
   ]
  },
  {
   "cell_type": "code",
   "execution_count": 271,
   "id": "e9ccc461",
   "metadata": {},
   "outputs": [],
   "source": [
    "success = (downloads > .004).sum(axis=1) == 450"
   ]
  },
  {
   "cell_type": "code",
   "execution_count": 273,
   "id": "b623623c",
   "metadata": {},
   "outputs": [
    {
     "data": {
      "text/plain": [
       "0.1583"
      ]
     },
     "execution_count": 273,
     "metadata": {},
     "output_type": "execute_result"
    }
   ],
   "source": [
    "success.mean()"
   ]
  },
  {
   "cell_type": "code",
   "execution_count": 274,
   "id": "4f4ca1e7",
   "metadata": {},
   "outputs": [],
   "source": [
    "#there is about a 15 % chance3 all students can download anaconda without issue"
   ]
  },
  {
   "cell_type": "code",
   "execution_count": 275,
   "id": "f78273e0",
   "metadata": {},
   "outputs": [],
   "source": [
    "#There's a 70% chance on any given day that there will be at least one food truck at Travis Park. However, you haven't seen a food truck there in 3 days. How unlikely is this?\n",
    "\n"
   ]
  },
  {
   "cell_type": "code",
   "execution_count": 276,
   "id": "b8ca504c",
   "metadata": {},
   "outputs": [],
   "source": [
    "p = .7"
   ]
  },
  {
   "cell_type": "code",
   "execution_count": 277,
   "id": "5a805e84",
   "metadata": {},
   "outputs": [],
   "source": [
    "days = np.random.random((10000,3))"
   ]
  },
  {
   "cell_type": "code",
   "execution_count": 278,
   "id": "aa2caa93",
   "metadata": {},
   "outputs": [],
   "source": [
    "no_truck = (days <= .3).sum(axis=1) == 3"
   ]
  },
  {
   "cell_type": "code",
   "execution_count": 279,
   "id": "44b4fa17",
   "metadata": {},
   "outputs": [
    {
     "data": {
      "text/plain": [
       "0.0276"
      ]
     },
     "execution_count": 279,
     "metadata": {},
     "output_type": "execute_result"
    }
   ],
   "source": [
    "no_truck.mean()"
   ]
  },
  {
   "cell_type": "code",
   "execution_count": 280,
   "id": "80cf064b",
   "metadata": {},
   "outputs": [],
   "source": [
    "#There is about a 2.7% percent chance you wont see a food truck over the course of 3 days"
   ]
  },
  {
   "cell_type": "code",
   "execution_count": 285,
   "id": "e59e634b",
   "metadata": {},
   "outputs": [],
   "source": [
    "#How likely is it that a food truck will show up sometime this week? !using fresh 7 day week!"
   ]
  },
  {
   "cell_type": "code",
   "execution_count": 287,
   "id": "d45b15d1",
   "metadata": {},
   "outputs": [],
   "source": [
    "days = np.random.random((10000,7))"
   ]
  },
  {
   "cell_type": "code",
   "execution_count": 292,
   "id": "4da1b073",
   "metadata": {},
   "outputs": [],
   "source": [
    "truck = (days >= .7).sum(axis=1) >= 1"
   ]
  },
  {
   "cell_type": "code",
   "execution_count": 293,
   "id": "a2320266",
   "metadata": {},
   "outputs": [
    {
     "data": {
      "text/plain": [
       "0.916"
      ]
     },
     "execution_count": 293,
     "metadata": {},
     "output_type": "execute_result"
    }
   ],
   "source": [
    "truck.mean()"
   ]
  },
  {
   "cell_type": "code",
   "execution_count": 294,
   "id": "6679f0fe",
   "metadata": {},
   "outputs": [],
   "source": [
    "#there is about a 91% chance we see the food truck this week"
   ]
  },
  {
   "cell_type": "code",
   "execution_count": 295,
   "id": "a1dab8b9",
   "metadata": {},
   "outputs": [],
   "source": [
    "#If 23 people are in the same room, what are the odds that two of them share a birthday? "
   ]
  },
  {
   "cell_type": "code",
   "execution_count": 297,
   "id": "aa874d7f",
   "metadata": {},
   "outputs": [],
   "source": [
    "p = 1/365"
   ]
  },
  {
   "cell_type": "code",
   "execution_count": 371,
   "id": "8a18c090",
   "metadata": {},
   "outputs": [
    {
     "data": {
      "text/plain": [
       "0.0027397260273972603"
      ]
     },
     "execution_count": 371,
     "metadata": {},
     "output_type": "execute_result"
    }
   ],
   "source": [
    "p"
   ]
  },
  {
   "cell_type": "code",
   "execution_count": 393,
   "id": "0e408bd7",
   "metadata": {},
   "outputs": [],
   "source": [
    "bdays = np.random.random((100000,23))"
   ]
  },
  {
   "cell_type": "code",
   "execution_count": 343,
   "id": "ad19d324",
   "metadata": {},
   "outputs": [
    {
     "data": {
      "text/plain": [
       "array([[0.38170883, 0.26678721, 0.94382411, ..., 0.63230812, 0.3659434 ,\n",
       "        0.85982491],\n",
       "       [0.36666699, 0.94015863, 0.45881878, ..., 0.44955809, 0.77624077,\n",
       "        0.05460001],\n",
       "       [0.28796135, 0.19512923, 0.50867338, ..., 0.08303471, 0.67594449,\n",
       "        0.28057735],\n",
       "       ...,\n",
       "       [0.44471703, 0.86905129, 0.16462443, ..., 0.03450086, 0.56227492,\n",
       "        0.85427009],\n",
       "       [0.42161136, 0.77121789, 0.48598237, ..., 0.5865146 , 0.36512283,\n",
       "        0.51903699],\n",
       "       [0.29661922, 0.06874358, 0.56891729, ..., 0.66301784, 0.94266316,\n",
       "        0.99632865]])"
      ]
     },
     "execution_count": 343,
     "metadata": {},
     "output_type": "execute_result"
    }
   ],
   "source": []
  },
  {
   "cell_type": "code",
   "execution_count": 349,
   "id": "75a47baf",
   "metadata": {},
   "outputs": [],
   "source": []
  },
  {
   "cell_type": "code",
   "execution_count": 391,
   "id": "7e9d48ca",
   "metadata": {},
   "outputs": [],
   "source": []
  },
  {
   "cell_type": "code",
   "execution_count": 392,
   "id": "ccda9a20",
   "metadata": {},
   "outputs": [
    {
     "data": {
      "text/plain": [
       "0.06104"
      ]
     },
     "execution_count": 392,
     "metadata": {},
     "output_type": "execute_result"
    }
   ],
   "source": [
    "shared.mean()"
   ]
  },
  {
   "cell_type": "code",
   "execution_count": null,
   "id": "d92c38b5",
   "metadata": {},
   "outputs": [],
   "source": []
  }
 ],
 "metadata": {
  "kernelspec": {
   "display_name": "Python 3 (ipykernel)",
   "language": "python",
   "name": "python3"
  },
  "language_info": {
   "codemirror_mode": {
    "name": "ipython",
    "version": 3
   },
   "file_extension": ".py",
   "mimetype": "text/x-python",
   "name": "python",
   "nbconvert_exporter": "python",
   "pygments_lexer": "ipython3",
   "version": "3.9.12"
  }
 },
 "nbformat": 4,
 "nbformat_minor": 5
}
