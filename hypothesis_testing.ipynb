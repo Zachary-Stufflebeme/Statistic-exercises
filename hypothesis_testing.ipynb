{
 "cells": [
  {
   "cell_type": "code",
   "execution_count": 32,
   "id": "683c3b94",
   "metadata": {},
   "outputs": [],
   "source": [
    "from math import sqrt\n",
    "from scipy import stats\n",
    "\n",
    "import matplotlib.pyplot as plt\n",
    "import numpy as np\n",
    "import pandas as pd\n",
    "from pydataset import data\n",
    "import statistics\n",
    "\n"
   ]
  },
  {
   "cell_type": "code",
   "execution_count": 5,
   "id": "329340be",
   "metadata": {},
   "outputs": [],
   "source": [
    "#Ace Realty wants to determine whether the average time it takes to sell homes is different for its two offices. \n",
    "#A sample of 40 sales from office #1 revealed a mean of 90 days and a standard deviation of 15 days. \n",
    "#A sample of 50 sales from office #2 revealed a mean of 100 days and a standard deviation of 20 days.\n",
    "#Use a .05 level of significance."
   ]
  },
  {
   "cell_type": "code",
   "execution_count": 6,
   "id": "c754d202",
   "metadata": {},
   "outputs": [],
   "source": [
    "#this would be a two tail test bc we are testing inequality and not > or <.\n",
    "#two independent samples we are comparing against each other and not against entire population.\n",
    "      #hypothesis\n",
    "#hnull = average sales time of office 1 == average sales time of office 2\n",
    "#Halt = average sales time of office 1 ! = average sales time of office 2.\n",
    "#normality: we were told they are normal. there are also enough samples to support CLT.\n",
    "#Variance:\n",
    "\n",
    "office_1 = stats.norm(90,15).rvs(40)\n",
    "office_2 = stats.norm(100,20).rvs(50)"
   ]
  },
  {
   "cell_type": "code",
   "execution_count": 7,
   "id": "37307d97",
   "metadata": {},
   "outputs": [],
   "source": [
    "x = np.arange(40,150)\n",
    "h = stats.norm(90,15).pdf(x)\n",
    "f = stats.norm(100,20).pdf(x)\n"
   ]
  },
  {
   "cell_type": "code",
   "execution_count": 8,
   "id": "52806d60",
   "metadata": {},
   "outputs": [
    {
     "name": "stdout",
     "output_type": "stream",
     "text": [
      "we can reject hnull\n"
     ]
    }
   ],
   "source": [
    "stat, p_val = stats.levene(office_1,office_2)\n",
    "if p_val < .05:\n",
    "    print('we can reject hnull')\n",
    "    "
   ]
  },
  {
   "cell_type": "code",
   "execution_count": 9,
   "id": "2c52a129",
   "metadata": {},
   "outputs": [],
   "source": [
    "t_stat,p_val = stats.ttest_ind(office_1,office_2,equal_var = False)\n"
   ]
  },
  {
   "cell_type": "code",
   "execution_count": 10,
   "id": "2b04c2b2",
   "metadata": {},
   "outputs": [
    {
     "name": "stdout",
     "output_type": "stream",
     "text": [
      "our pval is less than alpha and we can reject null hypothesis which indicates difference in sales time avg\n"
     ]
    }
   ],
   "source": [
    "if p_val < .05:\n",
    "    print('our pval is less than alpha and we can reject null hypothesis which indicates difference in sales time avg')"
   ]
  },
  {
   "cell_type": "code",
   "execution_count": 11,
   "id": "54ad7052",
   "metadata": {},
   "outputs": [
    {
     "data": {
      "text/plain": [
       "Ttest_indResult(statistic=-2.7091418459143854, pvalue=0.00811206270346016)"
      ]
     },
     "execution_count": 11,
     "metadata": {},
     "output_type": "execute_result"
    }
   ],
   "source": [
    "stats.ttest_ind_from_stats(90,15,40,100,20,50, equal_var = False)"
   ]
  },
  {
   "cell_type": "code",
   "execution_count": 12,
   "id": "6c5a6f70",
   "metadata": {},
   "outputs": [
    {
     "data": {
      "text/plain": [
       "0.005294925536298694"
      ]
     },
     "execution_count": 12,
     "metadata": {},
     "output_type": "execute_result"
    }
   ],
   "source": [
    "p_val"
   ]
  },
  {
   "cell_type": "code",
   "execution_count": 13,
   "id": "172b1fe6",
   "metadata": {},
   "outputs": [],
   "source": [
    "#Load the mpg dataset and use it to answer the following questions:\n",
    "\n",
    "\n",
    "#Are compact cars more fuel-efficient than the average car?\n",
    "#Do manual cars get better gas mileage than automatic cars?"
   ]
  },
  {
   "cell_type": "code",
   "execution_count": 14,
   "id": "b3905047",
   "metadata": {},
   "outputs": [],
   "source": [
    "mpg = data('mpg')"
   ]
  },
  {
   "cell_type": "code",
   "execution_count": 15,
   "id": "beaef902",
   "metadata": {},
   "outputs": [
    {
     "data": {
      "text/html": [
       "<div>\n",
       "<style scoped>\n",
       "    .dataframe tbody tr th:only-of-type {\n",
       "        vertical-align: middle;\n",
       "    }\n",
       "\n",
       "    .dataframe tbody tr th {\n",
       "        vertical-align: top;\n",
       "    }\n",
       "\n",
       "    .dataframe thead th {\n",
       "        text-align: right;\n",
       "    }\n",
       "</style>\n",
       "<table border=\"1\" class=\"dataframe\">\n",
       "  <thead>\n",
       "    <tr style=\"text-align: right;\">\n",
       "      <th></th>\n",
       "      <th>manufacturer</th>\n",
       "      <th>model</th>\n",
       "      <th>displ</th>\n",
       "      <th>year</th>\n",
       "      <th>cyl</th>\n",
       "      <th>trans</th>\n",
       "      <th>drv</th>\n",
       "      <th>cty</th>\n",
       "      <th>hwy</th>\n",
       "      <th>fl</th>\n",
       "      <th>class</th>\n",
       "    </tr>\n",
       "  </thead>\n",
       "  <tbody>\n",
       "    <tr>\n",
       "      <th>1</th>\n",
       "      <td>audi</td>\n",
       "      <td>a4</td>\n",
       "      <td>1.8</td>\n",
       "      <td>1999</td>\n",
       "      <td>4</td>\n",
       "      <td>auto(l5)</td>\n",
       "      <td>f</td>\n",
       "      <td>18</td>\n",
       "      <td>29</td>\n",
       "      <td>p</td>\n",
       "      <td>compact</td>\n",
       "    </tr>\n",
       "    <tr>\n",
       "      <th>2</th>\n",
       "      <td>audi</td>\n",
       "      <td>a4</td>\n",
       "      <td>1.8</td>\n",
       "      <td>1999</td>\n",
       "      <td>4</td>\n",
       "      <td>manual(m5)</td>\n",
       "      <td>f</td>\n",
       "      <td>21</td>\n",
       "      <td>29</td>\n",
       "      <td>p</td>\n",
       "      <td>compact</td>\n",
       "    </tr>\n",
       "    <tr>\n",
       "      <th>3</th>\n",
       "      <td>audi</td>\n",
       "      <td>a4</td>\n",
       "      <td>2.0</td>\n",
       "      <td>2008</td>\n",
       "      <td>4</td>\n",
       "      <td>manual(m6)</td>\n",
       "      <td>f</td>\n",
       "      <td>20</td>\n",
       "      <td>31</td>\n",
       "      <td>p</td>\n",
       "      <td>compact</td>\n",
       "    </tr>\n",
       "    <tr>\n",
       "      <th>4</th>\n",
       "      <td>audi</td>\n",
       "      <td>a4</td>\n",
       "      <td>2.0</td>\n",
       "      <td>2008</td>\n",
       "      <td>4</td>\n",
       "      <td>auto(av)</td>\n",
       "      <td>f</td>\n",
       "      <td>21</td>\n",
       "      <td>30</td>\n",
       "      <td>p</td>\n",
       "      <td>compact</td>\n",
       "    </tr>\n",
       "    <tr>\n",
       "      <th>5</th>\n",
       "      <td>audi</td>\n",
       "      <td>a4</td>\n",
       "      <td>2.8</td>\n",
       "      <td>1999</td>\n",
       "      <td>6</td>\n",
       "      <td>auto(l5)</td>\n",
       "      <td>f</td>\n",
       "      <td>16</td>\n",
       "      <td>26</td>\n",
       "      <td>p</td>\n",
       "      <td>compact</td>\n",
       "    </tr>\n",
       "  </tbody>\n",
       "</table>\n",
       "</div>"
      ],
      "text/plain": [
       "  manufacturer model  displ  year  cyl       trans drv  cty  hwy fl    class\n",
       "1         audi    a4    1.8  1999    4    auto(l5)   f   18   29  p  compact\n",
       "2         audi    a4    1.8  1999    4  manual(m5)   f   21   29  p  compact\n",
       "3         audi    a4    2.0  2008    4  manual(m6)   f   20   31  p  compact\n",
       "4         audi    a4    2.0  2008    4    auto(av)   f   21   30  p  compact\n",
       "5         audi    a4    2.8  1999    6    auto(l5)   f   16   26  p  compact"
      ]
     },
     "execution_count": 15,
     "metadata": {},
     "output_type": "execute_result"
    }
   ],
   "source": [
    "mpg.head()"
   ]
  },
  {
   "cell_type": "code",
   "execution_count": 16,
   "id": "f23a3461",
   "metadata": {},
   "outputs": [],
   "source": [
    "#        Is there a difference in fuel-efficiency in cars from 2008 vs 1999"
   ]
  },
  {
   "cell_type": "code",
   "execution_count": 17,
   "id": "f803475d",
   "metadata": {},
   "outputs": [],
   "source": [
    "#Two tailed test - looking for inequality\n",
    "#two independent samples\n",
    "#we will use ttest_ind"
   ]
  },
  {
   "cell_type": "code",
   "execution_count": 18,
   "id": "7bb0e6fe",
   "metadata": {},
   "outputs": [],
   "source": [
    "#hnull - fuel efficiency in 2008 cars == to 1999 cars\n",
    "#halt - fuel efficiecny in 2008 cars != to 1999 cars"
   ]
  },
  {
   "cell_type": "code",
   "execution_count": 19,
   "id": "d66e389f",
   "metadata": {},
   "outputs": [],
   "source": [
    "mpg['avg_fe'] = stats.hmean(mpg[['cty','hwy']],axis = 1) # DOESNT WORK\n",
    "fe_2008 = mpg[mpg.year == 2008].avg_fe\n",
    "fe_1999 = mpg[mpg.year == 2008].avg_fe\n"
   ]
  },
  {
   "cell_type": "code",
   "execution_count": 20,
   "id": "cf4ed4ea",
   "metadata": {},
   "outputs": [],
   "source": [
    "#LEVENE TEST:\n",
    "#hnull - equal variance in avg_fe from 2008 and 1999\n",
    "#halt - there is inequal variance in avg_fe from 2008 and 1999\n",
    "sta, p_val = stats.levene(fe_1999, fe_2008)\n",
    "if p_val < .05:\n",
    "    print('we can reject null. variance is inequal')\n",
    "    "
   ]
  },
  {
   "cell_type": "code",
   "execution_count": 21,
   "id": "7844241c",
   "metadata": {},
   "outputs": [
    {
     "data": {
      "text/plain": [
       "(0.0, 1.0)"
      ]
     },
     "execution_count": 21,
     "metadata": {},
     "output_type": "execute_result"
    }
   ],
   "source": [
    "t_stat,P_val = stats.ttest_ind(fe_1999, fe_2008)\n",
    "t_stat,P_val"
   ]
  },
  {
   "cell_type": "code",
   "execution_count": 22,
   "id": "fdaf4952",
   "metadata": {},
   "outputs": [],
   "source": [
    "#         Are compact cars more fuel-efficient than the average car?"
   ]
  },
  {
   "cell_type": "code",
   "execution_count": 23,
   "id": "b0364cea",
   "metadata": {},
   "outputs": [],
   "source": [
    "#one tailed test. checking if mileage of compact cars is GREATER than all cars avg mileage\n",
    "#one sample. We are comparing one sample(compact cars) to entire population\n",
    "#hnull - compact car avg mileabe <= all vehicle avg mileage\n",
    "#halt - compact car avg mileage > all vehicle avg mileage\n",
    "# since one tail we use p/2 compared to alpha not just p.\n",
    "#tstat should be positive"
   ]
  },
  {
   "cell_type": "code",
   "execution_count": 24,
   "id": "11f89f12",
   "metadata": {},
   "outputs": [],
   "source": [
    "fe_compacts = mpg[mpg['class'] == 'compact'].avg_fe\n",
    "fe_overall = mpg.avg_fe.mean()"
   ]
  },
  {
   "cell_type": "code",
   "execution_count": 25,
   "id": "2370a1f9",
   "metadata": {},
   "outputs": [],
   "source": [
    "t_stat, p_val = stats.ttest_1samp(fe_compacts, fe_overall)\n"
   ]
  },
  {
   "cell_type": "code",
   "execution_count": 27,
   "id": "c990305a",
   "metadata": {},
   "outputs": [],
   "source": [
    "if t_stat > 0 and ((p_val/2) > .05):\n",
    "    print('we can reject the null')"
   ]
  },
  {
   "cell_type": "code",
   "execution_count": 28,
   "id": "64341a12",
   "metadata": {},
   "outputs": [],
   "source": [
    "#       Do manual cars get better gas mileage than automatic cars?"
   ]
  },
  {
   "cell_type": "code",
   "execution_count": 29,
   "id": "34934f0a",
   "metadata": {},
   "outputs": [],
   "source": [
    "#one tailed test. Checking if manual cars have BETTER mileage than automatic cars\n",
    "#two sample test bc comparing MANUAL vs AUTOMATIC. two seperate samples.\n",
    "#hnull -manual car avg mileage <= automatic car avg mileage\n",
    "#halt -manual car avg mileage > automatic car avg mileage\n",
    "#one sample test.\n",
    "\n"
   ]
  },
  {
   "cell_type": "code",
   "execution_count": 30,
   "id": "a855fb39",
   "metadata": {},
   "outputs": [],
   "source": [
    "auto_fe = mpg[mpg.trans.str.contains('auto')].avg_fe\n",
    "manual_fe = mpg[mpg.trans.str.contains('manual')].avg_fe"
   ]
  },
  {
   "cell_type": "code",
   "execution_count": 31,
   "id": "ad5ae284",
   "metadata": {},
   "outputs": [
    {
     "name": "stdout",
     "output_type": "stream",
     "text": [
      "we can reject our null\n"
     ]
    }
   ],
   "source": [
    "#LEVENE TEST:\n",
    "#hnull -equiv var\n",
    "\n",
    "#halt - nonequiv var\n",
    "stats.levene(manual_fe,auto_fe)\n",
    "#cant reject null, var is equal\n",
    "t , p = stats.ttest_ind(manual_fe, auto_fe)\n",
    "if t>0 and ((p/2)< .05):\n",
    "    print('we can reject our null')\n",
    "else:\n",
    "    print('we cant reject null')"
   ]
  },
  {
   "cell_type": "code",
   "execution_count": null,
   "id": "57365891",
   "metadata": {},
   "outputs": [],
   "source": []
  },
  {
   "cell_type": "code",
   "execution_count": null,
   "id": "500bc13b",
   "metadata": {},
   "outputs": [],
   "source": []
  },
  {
   "cell_type": "code",
   "execution_count": null,
   "id": "415685cd",
   "metadata": {},
   "outputs": [],
   "source": []
  }
 ],
 "metadata": {
  "kernelspec": {
   "display_name": "Python 3 (ipykernel)",
   "language": "python",
   "name": "python3"
  },
  "language_info": {
   "codemirror_mode": {
    "name": "ipython",
    "version": 3
   },
   "file_extension": ".py",
   "mimetype": "text/x-python",
   "name": "python",
   "nbconvert_exporter": "python",
   "pygments_lexer": "ipython3",
   "version": "3.9.12"
  }
 },
 "nbformat": 4,
 "nbformat_minor": 5
}
