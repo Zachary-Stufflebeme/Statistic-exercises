{
 "cells": [
  {
   "cell_type": "code",
   "execution_count": 1,
   "id": "683c3b94",
   "metadata": {},
   "outputs": [],
   "source": [
    "from math import sqrt\n",
    "from scipy import stats\n",
    "\n",
    "import matplotlib.pyplot as plt\n",
    "import numpy as np\n",
    "import pandas as pd\n",
    "from pydataset import data\n",
    "import statistics\n",
    "\n"
   ]
  },
  {
   "cell_type": "code",
   "execution_count": 2,
   "id": "329340be",
   "metadata": {},
   "outputs": [],
   "source": [
    "#Ace Realty wants to determine whether the average time it takes to sell homes is different for its two offices. \n",
    "#A sample of 40 sales from office #1 revealed a mean of 90 days and a standard deviation of 15 days. \n",
    "#A sample of 50 sales from office #2 revealed a mean of 100 days and a standard deviation of 20 days.\n",
    "#Use a .05 level of significance."
   ]
  },
  {
   "cell_type": "code",
   "execution_count": 3,
   "id": "c754d202",
   "metadata": {},
   "outputs": [],
   "source": [
    "#this would be a two tail test bc we are testing inequality and not > or <.\n",
    "#two independent samples we are comparing against each other and not against entire population.\n",
    "      #hypothesis\n",
    "#hnull = average sales time of office 1 == average sales time of office 2\n",
    "#Halt = average sales time of office 1 ! = average sales time of office 2.\n",
    "#normality: we were told they are normal. there are also enough samples to support CLT.\n",
    "#Variance:\n",
    "\n",
    "office_1 = stats.norm(90,15).rvs(40)\n",
    "office_2 = stats.norm(100,20).rvs(50)"
   ]
  },
  {
   "cell_type": "code",
   "execution_count": 4,
   "id": "37307d97",
   "metadata": {},
   "outputs": [],
   "source": [
    "x = np.arange(40,150)\n",
    "h = stats.norm(90,15).pdf(x)\n",
    "f = stats.norm(100,20).pdf(x)\n"
   ]
  },
  {
   "cell_type": "code",
   "execution_count": 5,
   "id": "52806d60",
   "metadata": {},
   "outputs": [
    {
     "name": "stdout",
     "output_type": "stream",
     "text": [
      "we can reject hnull\n"
     ]
    }
   ],
   "source": [
    "stat, p_val = stats.levene(office_1,office_2)\n",
    "if p_val < .05:\n",
    "    print('we can reject hnull')\n",
    "    "
   ]
  },
  {
   "cell_type": "code",
   "execution_count": 6,
   "id": "2c52a129",
   "metadata": {},
   "outputs": [],
   "source": [
    "t_stat,p_val = stats.ttest_ind(office_1,office_2,equal_var = False)\n"
   ]
  },
  {
   "cell_type": "code",
   "execution_count": 7,
   "id": "2b04c2b2",
   "metadata": {},
   "outputs": [
    {
     "name": "stdout",
     "output_type": "stream",
     "text": [
      "our pval is less than alpha and we can reject null hypothesis which indicates difference in sales time avg\n"
     ]
    }
   ],
   "source": [
    "if p_val < .05:\n",
    "    print('our pval is less than alpha and we can reject null hypothesis which indicates difference in sales time avg')"
   ]
  },
  {
   "cell_type": "code",
   "execution_count": 8,
   "id": "54ad7052",
   "metadata": {},
   "outputs": [
    {
     "data": {
      "text/plain": [
       "Ttest_indResult(statistic=-2.7091418459143854, pvalue=0.00811206270346016)"
      ]
     },
     "execution_count": 8,
     "metadata": {},
     "output_type": "execute_result"
    }
   ],
   "source": [
    "stats.ttest_ind_from_stats(90,15,40,100,20,50, equal_var = False)"
   ]
  },
  {
   "cell_type": "code",
   "execution_count": 9,
   "id": "6c5a6f70",
   "metadata": {},
   "outputs": [
    {
     "data": {
      "text/plain": [
       "0.015069346068017048"
      ]
     },
     "execution_count": 9,
     "metadata": {},
     "output_type": "execute_result"
    }
   ],
   "source": [
    "p_val"
   ]
  },
  {
   "cell_type": "code",
   "execution_count": 10,
   "id": "172b1fe6",
   "metadata": {},
   "outputs": [],
   "source": [
    "#Load the mpg dataset and use it to answer the following questions:\n",
    "\n",
    "\n",
    "#Are compact cars more fuel-efficient than the average car?\n",
    "#Do manual cars get better gas mileage than automatic cars?"
   ]
  },
  {
   "cell_type": "code",
   "execution_count": 11,
   "id": "b3905047",
   "metadata": {},
   "outputs": [],
   "source": [
    "mpg = data('mpg')"
   ]
  },
  {
   "cell_type": "code",
   "execution_count": 12,
   "id": "beaef902",
   "metadata": {},
   "outputs": [
    {
     "data": {
      "text/html": [
       "<div>\n",
       "<style scoped>\n",
       "    .dataframe tbody tr th:only-of-type {\n",
       "        vertical-align: middle;\n",
       "    }\n",
       "\n",
       "    .dataframe tbody tr th {\n",
       "        vertical-align: top;\n",
       "    }\n",
       "\n",
       "    .dataframe thead th {\n",
       "        text-align: right;\n",
       "    }\n",
       "</style>\n",
       "<table border=\"1\" class=\"dataframe\">\n",
       "  <thead>\n",
       "    <tr style=\"text-align: right;\">\n",
       "      <th></th>\n",
       "      <th>manufacturer</th>\n",
       "      <th>model</th>\n",
       "      <th>displ</th>\n",
       "      <th>year</th>\n",
       "      <th>cyl</th>\n",
       "      <th>trans</th>\n",
       "      <th>drv</th>\n",
       "      <th>cty</th>\n",
       "      <th>hwy</th>\n",
       "      <th>fl</th>\n",
       "      <th>class</th>\n",
       "    </tr>\n",
       "  </thead>\n",
       "  <tbody>\n",
       "    <tr>\n",
       "      <th>1</th>\n",
       "      <td>audi</td>\n",
       "      <td>a4</td>\n",
       "      <td>1.8</td>\n",
       "      <td>1999</td>\n",
       "      <td>4</td>\n",
       "      <td>auto(l5)</td>\n",
       "      <td>f</td>\n",
       "      <td>18</td>\n",
       "      <td>29</td>\n",
       "      <td>p</td>\n",
       "      <td>compact</td>\n",
       "    </tr>\n",
       "    <tr>\n",
       "      <th>2</th>\n",
       "      <td>audi</td>\n",
       "      <td>a4</td>\n",
       "      <td>1.8</td>\n",
       "      <td>1999</td>\n",
       "      <td>4</td>\n",
       "      <td>manual(m5)</td>\n",
       "      <td>f</td>\n",
       "      <td>21</td>\n",
       "      <td>29</td>\n",
       "      <td>p</td>\n",
       "      <td>compact</td>\n",
       "    </tr>\n",
       "    <tr>\n",
       "      <th>3</th>\n",
       "      <td>audi</td>\n",
       "      <td>a4</td>\n",
       "      <td>2.0</td>\n",
       "      <td>2008</td>\n",
       "      <td>4</td>\n",
       "      <td>manual(m6)</td>\n",
       "      <td>f</td>\n",
       "      <td>20</td>\n",
       "      <td>31</td>\n",
       "      <td>p</td>\n",
       "      <td>compact</td>\n",
       "    </tr>\n",
       "    <tr>\n",
       "      <th>4</th>\n",
       "      <td>audi</td>\n",
       "      <td>a4</td>\n",
       "      <td>2.0</td>\n",
       "      <td>2008</td>\n",
       "      <td>4</td>\n",
       "      <td>auto(av)</td>\n",
       "      <td>f</td>\n",
       "      <td>21</td>\n",
       "      <td>30</td>\n",
       "      <td>p</td>\n",
       "      <td>compact</td>\n",
       "    </tr>\n",
       "    <tr>\n",
       "      <th>5</th>\n",
       "      <td>audi</td>\n",
       "      <td>a4</td>\n",
       "      <td>2.8</td>\n",
       "      <td>1999</td>\n",
       "      <td>6</td>\n",
       "      <td>auto(l5)</td>\n",
       "      <td>f</td>\n",
       "      <td>16</td>\n",
       "      <td>26</td>\n",
       "      <td>p</td>\n",
       "      <td>compact</td>\n",
       "    </tr>\n",
       "  </tbody>\n",
       "</table>\n",
       "</div>"
      ],
      "text/plain": [
       "  manufacturer model  displ  year  cyl       trans drv  cty  hwy fl    class\n",
       "1         audi    a4    1.8  1999    4    auto(l5)   f   18   29  p  compact\n",
       "2         audi    a4    1.8  1999    4  manual(m5)   f   21   29  p  compact\n",
       "3         audi    a4    2.0  2008    4  manual(m6)   f   20   31  p  compact\n",
       "4         audi    a4    2.0  2008    4    auto(av)   f   21   30  p  compact\n",
       "5         audi    a4    2.8  1999    6    auto(l5)   f   16   26  p  compact"
      ]
     },
     "execution_count": 12,
     "metadata": {},
     "output_type": "execute_result"
    }
   ],
   "source": [
    "mpg.head()"
   ]
  },
  {
   "cell_type": "code",
   "execution_count": 13,
   "id": "f23a3461",
   "metadata": {},
   "outputs": [],
   "source": [
    "#        Is there a difference in fuel-efficiency in cars from 2008 vs 1999"
   ]
  },
  {
   "cell_type": "code",
   "execution_count": 14,
   "id": "f803475d",
   "metadata": {},
   "outputs": [],
   "source": [
    "#Two tailed test - looking for inequality\n",
    "#two independent samples\n",
    "#we will use ttest_ind"
   ]
  },
  {
   "cell_type": "code",
   "execution_count": 15,
   "id": "7bb0e6fe",
   "metadata": {},
   "outputs": [],
   "source": [
    "#hnull - fuel efficiency in 2008 cars == to 1999 cars\n",
    "#halt - fuel efficiecny in 2008 cars != to 1999 cars"
   ]
  },
  {
   "cell_type": "code",
   "execution_count": 16,
   "id": "d66e389f",
   "metadata": {},
   "outputs": [],
   "source": [
    "mpg['avg_fe'] = stats.hmean(mpg[['cty','hwy']],axis = 1) # DOESNT WORK\n",
    "fe_2008 = mpg[mpg.year == 2008].avg_fe\n",
    "fe_1999 = mpg[mpg.year == 2008].avg_fe\n"
   ]
  },
  {
   "cell_type": "code",
   "execution_count": 17,
   "id": "cf4ed4ea",
   "metadata": {},
   "outputs": [],
   "source": [
    "#LEVENE TEST:\n",
    "#hnull - equal variance in avg_fe from 2008 and 1999\n",
    "#halt - there is inequal variance in avg_fe from 2008 and 1999\n",
    "sta, p_val = stats.levene(fe_1999, fe_2008)\n",
    "if p_val < .05:\n",
    "    print('we can reject null. variance is inequal')\n",
    "    "
   ]
  },
  {
   "cell_type": "code",
   "execution_count": 18,
   "id": "7844241c",
   "metadata": {},
   "outputs": [
    {
     "data": {
      "text/plain": [
       "(0.0, 1.0)"
      ]
     },
     "execution_count": 18,
     "metadata": {},
     "output_type": "execute_result"
    }
   ],
   "source": [
    "t_stat,P_val = stats.ttest_ind(fe_1999, fe_2008)\n",
    "t_stat,P_val"
   ]
  },
  {
   "cell_type": "code",
   "execution_count": 19,
   "id": "fdaf4952",
   "metadata": {},
   "outputs": [],
   "source": [
    "#         Are compact cars more fuel-efficient than the average car?"
   ]
  },
  {
   "cell_type": "code",
   "execution_count": 20,
   "id": "b0364cea",
   "metadata": {},
   "outputs": [],
   "source": [
    "#one tailed test. checking if mileage of compact cars is GREATER than all cars avg mileage\n",
    "#one sample. We are comparing one sample(compact cars) to entire population\n",
    "#hnull - compact car avg mileabe <= all vehicle avg mileage\n",
    "#halt - compact car avg mileage > all vehicle avg mileage\n",
    "# since one tail we use p/2 compared to alpha not just p.\n",
    "#tstat should be positive"
   ]
  },
  {
   "cell_type": "code",
   "execution_count": 21,
   "id": "11f89f12",
   "metadata": {},
   "outputs": [],
   "source": [
    "fe_compacts = mpg[mpg['class'] == 'compact'].avg_fe\n",
    "fe_overall = mpg.avg_fe.mean()"
   ]
  },
  {
   "cell_type": "code",
   "execution_count": 22,
   "id": "2370a1f9",
   "metadata": {},
   "outputs": [],
   "source": [
    "t_stat, p_val = stats.ttest_1samp(fe_compacts, fe_overall)\n"
   ]
  },
  {
   "cell_type": "code",
   "execution_count": 23,
   "id": "c990305a",
   "metadata": {},
   "outputs": [],
   "source": [
    "if t_stat > 0 and ((p_val/2) > .05):\n",
    "    print('we can reject the null')"
   ]
  },
  {
   "cell_type": "code",
   "execution_count": 24,
   "id": "64341a12",
   "metadata": {},
   "outputs": [],
   "source": [
    "#       Do manual cars get better gas mileage than automatic cars?"
   ]
  },
  {
   "cell_type": "code",
   "execution_count": 25,
   "id": "34934f0a",
   "metadata": {},
   "outputs": [],
   "source": [
    "#one tailed test. Checking if manual cars have BETTER mileage than automatic cars\n",
    "#two sample test bc comparing MANUAL vs AUTOMATIC. two seperate samples.\n",
    "#hnull -manual car avg mileage <= automatic car avg mileage\n",
    "#halt -manual car avg mileage > automatic car avg mileage\n",
    "#one sample test.\n",
    "\n"
   ]
  },
  {
   "cell_type": "code",
   "execution_count": 26,
   "id": "a855fb39",
   "metadata": {},
   "outputs": [],
   "source": [
    "auto_fe = mpg[mpg.trans.str.contains('auto')].avg_fe\n",
    "manual_fe = mpg[mpg.trans.str.contains('manual')].avg_fe"
   ]
  },
  {
   "cell_type": "code",
   "execution_count": 27,
   "id": "ad5ae284",
   "metadata": {},
   "outputs": [
    {
     "name": "stdout",
     "output_type": "stream",
     "text": [
      "we can reject our null\n"
     ]
    }
   ],
   "source": [
    "#LEVENE TEST:\n",
    "#hnull -equiv var\n",
    "\n",
    "#halt - nonequiv var\n",
    "stats.levene(manual_fe,auto_fe)\n",
    "#cant reject null, var is equal\n",
    "t , p = stats.ttest_ind(manual_fe, auto_fe)\n",
    "if t>0 and ((p/2)< .05):\n",
    "    print('we can reject our null')\n",
    "else:\n",
    "    print('we cant reject null')"
   ]
  },
  {
   "cell_type": "code",
   "execution_count": 28,
   "id": "57365891",
   "metadata": {},
   "outputs": [],
   "source": [
    "#------------------------------------CORRELATION EXERCISES----------------------------------------------------------\n",
    "df =  pd.read_csv('telco_churn.csv')\n",
    "a = .05"
   ]
  },
  {
   "cell_type": "code",
   "execution_count": 29,
   "id": "e0ea06fc",
   "metadata": {},
   "outputs": [],
   "source": [
    "#Use the telco_churn data. \n",
    "#Does tenure correlate with monthly charges? \n",
    "\n"
   ]
  },
  {
   "cell_type": "code",
   "execution_count": 30,
   "id": "500bc13b",
   "metadata": {},
   "outputs": [
    {
     "data": {
      "image/png": "[encoded data removed]",
      "text/plain": [
       "<Figure size 432x288 with 1 Axes>"
      ]
     },
     "metadata": {
      "needs_background": "light"
     },
     "output_type": "display_data"
    }
   ],
   "source": [
    "plt.scatter(df.tenure,df.MonthlyCharges)\n",
    "plt.title(\"What's the relationship between tenure and MonthlyCharges?\")\n",
    "plt.xlabel('tenure')\n",
    "plt.ylabel('MonthlyCharges')\n",
    "plt.show()\n"
   ]
  },
  {
   "cell_type": "code",
   "execution_count": 31,
   "id": "415685cd",
   "metadata": {},
   "outputs": [
    {
     "name": "stdout",
     "output_type": "stream",
     "text": [
      "r = 0.24789985628615002\n",
      "p = 4.0940449915016345e-99\n"
     ]
    }
   ],
   "source": [
    "x = df.tenure\n",
    "y = df.MonthlyCharges\n",
    "r,p = stats.pearsonr(x,y)\n",
    "print('r =', r)\n",
    "print('p =', p)"
   ]
  },
  {
   "cell_type": "code",
   "execution_count": 32,
   "id": "539f8e7b",
   "metadata": {},
   "outputs": [
    {
     "name": "stdout",
     "output_type": "stream",
     "text": [
      "there is a linear relationship\n"
     ]
    }
   ],
   "source": [
    "if p < a:\n",
    "    print(\"there is a linear relationship\")\n",
    "else:\n",
    "    print(\"there is no linear relationship\")"
   ]
  },
  {
   "cell_type": "code",
   "execution_count": null,
   "id": "a066f50a",
   "metadata": {},
   "outputs": [],
   "source": [
    "\n"
   ]
  },
  {
   "cell_type": "code",
   "execution_count": 33,
   "id": "2004825f",
   "metadata": {},
   "outputs": [],
   "source": [
    "#Does tenure correalate with TotalCharges?"
   ]
  },
  {
   "cell_type": "code",
   "execution_count": null,
   "id": "350e2058",
   "metadata": {},
   "outputs": [],
   "source": []
  },
  {
   "cell_type": "code",
   "execution_count": 34,
   "id": "7a608dad",
   "metadata": {},
   "outputs": [
    {
     "data": {
      "text/plain": [
       "0         29.85\n",
       "1        1889.5\n",
       "2        108.15\n",
       "3       1840.75\n",
       "4        151.65\n",
       "         ...   \n",
       "7038     1990.5\n",
       "7039     7362.9\n",
       "7040     346.45\n",
       "7041      306.6\n",
       "7042     6844.5\n",
       "Name: TotalCharges, Length: 7043, dtype: object"
      ]
     },
     "execution_count": 34,
     "metadata": {},
     "output_type": "execute_result"
    }
   ],
   "source": [
    "df.TotalCharges"
   ]
  },
  {
   "cell_type": "code",
   "execution_count": 35,
   "id": "1c27e261",
   "metadata": {},
   "outputs": [],
   "source": [
    "df.TotalCharges = pd.to_numeric(df.TotalCharges, errors = 'coerce')"
   ]
  },
  {
   "cell_type": "code",
   "execution_count": 36,
   "id": "b0c1f0d7",
   "metadata": {},
   "outputs": [
    {
     "data": {
      "image/png": "[encoded data removed]",
      "text/plain": [
       "<Figure size 432x288 with 1 Axes>"
      ]
     },
     "metadata": {
      "needs_background": "light"
     },
     "output_type": "display_data"
    }
   ],
   "source": [
    "plt.scatter(df.tenure,df.TotalCharges)\n",
    "plt.title(\"What's the relationship between tenure and TotalCharges?\")\n",
    "plt.xlabel('tenure')\n",
    "plt.ylabel('TotalCharges')\n",
    "plt.show()\n",
    "\n"
   ]
  },
  {
   "cell_type": "code",
   "execution_count": 37,
   "id": "e3b2fd2c",
   "metadata": {},
   "outputs": [
    {
     "name": "stdout",
     "output_type": "stream",
     "text": [
      "r = 0.824238893025497\n",
      "p = 0.0\n"
     ]
    }
   ],
   "source": [
    "x = df.tenure\n",
    "y = df.TotalCharges\n",
    "r,p = stats.pearsonr(x,y.interpolate(method = 'linear'))\n",
    "print('r =', r)\n",
    "print('p =', p)"
   ]
  },
  {
   "cell_type": "code",
   "execution_count": 38,
   "id": "e92bb400",
   "metadata": {},
   "outputs": [],
   "source": [
    "#              Tenure does correlate with TotalCharges"
   ]
  },
  {
   "cell_type": "code",
   "execution_count": 39,
   "id": "c1b0c427",
   "metadata": {},
   "outputs": [],
   "source": [
    "#What happens if you control for phone and internet services?"
   ]
  },
  {
   "cell_type": "code",
   "execution_count": 40,
   "id": "9dcd2810",
   "metadata": {},
   "outputs": [],
   "source": [
    "w_phone = df.PhoneService == 'Yes'\n",
    "wo_phone = df['PhoneService'] == 'No'\n",
    "w_fiber= df['InternetService'] == 'Fiber optic'\n",
    "w_dsl = df['InternetService'] == 'DSL'\n",
    "wo_int = df['InternetService'] == 'No'\n"
   ]
  },
  {
   "cell_type": "code",
   "execution_count": 41,
   "id": "97aa89f9",
   "metadata": {},
   "outputs": [],
   "source": [
    "#fiber optic\n",
    "#DSL\n",
    "#No\n",
    "\n"
   ]
  },
  {
   "cell_type": "code",
   "execution_count": 42,
   "id": "cd1d8d4d",
   "metadata": {},
   "outputs": [
    {
     "name": "stdout",
     "output_type": "stream",
     "text": [
      "r = 0.9853093528070603\n",
      "p = 0.0\n"
     ]
    }
   ],
   "source": [
    "# WITH PHONE AND FIBER\n",
    "x = df[(w_phone) & (w_fiber)].tenure\n",
    "y = df[(w_phone) & (w_fiber)].TotalCharges\n",
    "r,p = stats.pearsonr(x,y.interpolate(method = 'linear'))\n",
    "print('r =', r)\n",
    "print('p =', p)"
   ]
  },
  {
   "cell_type": "code",
   "execution_count": 43,
   "id": "9fe23bf0",
   "metadata": {},
   "outputs": [
    {
     "name": "stdout",
     "output_type": "stream",
     "text": [
      "r = 0.969871031625277\n",
      "p = 0.0\n"
     ]
    }
   ],
   "source": [
    "# WITH PHONE AND DSL\n",
    "x = df[(w_phone) & (w_dsl)].tenure\n",
    "y = df[(w_phone) & (w_dsl)].TotalCharges\n",
    "r,p = stats.pearsonr(x,y.interpolate(method = 'linear'))\n",
    "print('r =', r)\n",
    "print('p =', p)\n"
   ]
  },
  {
   "cell_type": "code",
   "execution_count": 44,
   "id": "a771a0e4",
   "metadata": {},
   "outputs": [
    {
     "name": "stdout",
     "output_type": "stream",
     "text": [
      "r = 0.9780858741893088\n",
      "p = 0.0\n"
     ]
    }
   ],
   "source": [
    "# WITH PHONE AND NO INT\n",
    "x = df[(w_phone) & (wo_int)].tenure\n",
    "y = df[(w_phone) & (wo_int)].TotalCharges\n",
    "r,p = stats.pearsonr(x,y.interpolate(method = 'linear'))\n",
    "print('r =', r)\n",
    "print('p =', p)\n",
    "\n"
   ]
  },
  {
   "cell_type": "code",
   "execution_count": 45,
   "id": "f15e9787",
   "metadata": {},
   "outputs": [],
   "source": [
    "#NO PHONE AND FIBER\n",
    "#x = df[(wo_phone) & (w_fiber)].tenure\n",
    "#y = df[(wo_phone) & (w_fiber)].TotalCharges\n",
    "#r,p = stats.pearsonr(x,y.interpolate(method = 'linear'))\n",
    "#print('r =', r)\n",
    "#print('p =', p)"
   ]
  },
  {
   "cell_type": "code",
   "execution_count": 46,
   "id": "68a405c9",
   "metadata": {},
   "outputs": [
    {
     "data": {
      "text/html": [
       "<div>\n",
       "<style scoped>\n",
       "    .dataframe tbody tr th:only-of-type {\n",
       "        vertical-align: middle;\n",
       "    }\n",
       "\n",
       "    .dataframe tbody tr th {\n",
       "        vertical-align: top;\n",
       "    }\n",
       "\n",
       "    .dataframe thead th {\n",
       "        text-align: right;\n",
       "    }\n",
       "</style>\n",
       "<table border=\"1\" class=\"dataframe\">\n",
       "  <thead>\n",
       "    <tr style=\"text-align: right;\">\n",
       "      <th>InternetService</th>\n",
       "      <th>False</th>\n",
       "      <th>True</th>\n",
       "    </tr>\n",
       "    <tr>\n",
       "      <th>PhoneService</th>\n",
       "      <th></th>\n",
       "      <th></th>\n",
       "    </tr>\n",
       "  </thead>\n",
       "  <tbody>\n",
       "    <tr>\n",
       "      <th>False</th>\n",
       "      <td>3265</td>\n",
       "      <td>3096</td>\n",
       "    </tr>\n",
       "    <tr>\n",
       "      <th>True</th>\n",
       "      <td>682</td>\n",
       "      <td>0</td>\n",
       "    </tr>\n",
       "  </tbody>\n",
       "</table>\n",
       "</div>"
      ],
      "text/plain": [
       "InternetService  False  True\n",
       "PhoneService                \n",
       "False             3265  3096\n",
       "True               682     0"
      ]
     },
     "execution_count": 46,
     "metadata": {},
     "output_type": "execute_result"
    }
   ],
   "source": [
    "df[(wo_phone) & (w_fiber)]\n",
    "pd.crosstab(wo_phone,w_fiber)\n",
    "#there is no intersection of no phone with fiber"
   ]
  },
  {
   "cell_type": "code",
   "execution_count": 47,
   "id": "29873c0a",
   "metadata": {},
   "outputs": [],
   "source": [
    "#no PHONE AND DSL|"
   ]
  },
  {
   "cell_type": "code",
   "execution_count": 48,
   "id": "4f40ac1b",
   "metadata": {},
   "outputs": [
    {
     "name": "stdout",
     "output_type": "stream",
     "text": [
      "r = 0.9512627356708929\n",
      "p = 0.0\n"
     ]
    }
   ],
   "source": [
    "x = df[(wo_phone) & (w_dsl)].tenure\n",
    "y = df[(wo_phone) & (w_dsl)].TotalCharges\n",
    "r,p = stats.pearsonr(x,y.interpolate(method = 'linear'))\n",
    "print('r =', r)\n",
    "print('p =', p)"
   ]
  },
  {
   "cell_type": "code",
   "execution_count": 49,
   "id": "d45028f3",
   "metadata": {},
   "outputs": [],
   "source": [
    "#x = df[(wo_phone) & (wo_int)].tenure\n",
    "#y = df[(wo_phone) & (wo_int)].TotalCharges\n",
    "#r,p = stats.pearsonr(x,y.interpolate(method = 'linear'))\n",
    "#print('r =', r)\n",
    "#print('p =', p)"
   ]
  },
  {
   "cell_type": "code",
   "execution_count": 50,
   "id": "ac8bb672",
   "metadata": {},
   "outputs": [
    {
     "data": {
      "text/html": [
       "<div>\n",
       "<style scoped>\n",
       "    .dataframe tbody tr th:only-of-type {\n",
       "        vertical-align: middle;\n",
       "    }\n",
       "\n",
       "    .dataframe tbody tr th {\n",
       "        vertical-align: top;\n",
       "    }\n",
       "\n",
       "    .dataframe thead th {\n",
       "        text-align: right;\n",
       "    }\n",
       "</style>\n",
       "<table border=\"1\" class=\"dataframe\">\n",
       "  <thead>\n",
       "    <tr style=\"text-align: right;\">\n",
       "      <th>InternetService</th>\n",
       "      <th>DSL</th>\n",
       "      <th>Fiber optic</th>\n",
       "      <th>No</th>\n",
       "    </tr>\n",
       "    <tr>\n",
       "      <th>PhoneService</th>\n",
       "      <th></th>\n",
       "      <th></th>\n",
       "      <th></th>\n",
       "    </tr>\n",
       "  </thead>\n",
       "  <tbody>\n",
       "    <tr>\n",
       "      <th>No</th>\n",
       "      <td>682</td>\n",
       "      <td>0</td>\n",
       "      <td>0</td>\n",
       "    </tr>\n",
       "    <tr>\n",
       "      <th>Yes</th>\n",
       "      <td>1739</td>\n",
       "      <td>3096</td>\n",
       "      <td>1526</td>\n",
       "    </tr>\n",
       "  </tbody>\n",
       "</table>\n",
       "</div>"
      ],
      "text/plain": [
       "InternetService   DSL  Fiber optic    No\n",
       "PhoneService                            \n",
       "No                682            0     0\n",
       "Yes              1739         3096  1526"
      ]
     },
     "execution_count": 50,
     "metadata": {},
     "output_type": "execute_result"
    }
   ],
   "source": [
    "#NO intersection of no phone no internet\n",
    "#df[(wo_phone) & (wo_int)]\n",
    "pd.crosstab(df.PhoneService,df.InternetService)"
   ]
  },
  {
   "cell_type": "code",
   "execution_count": 51,
   "id": "62e3c54f",
   "metadata": {},
   "outputs": [],
   "source": [
    "import pandas as pd\n",
    "import env\n",
    "\n",
    "url = f'mysql+pymysql://{env.username}:{env.password}@{env.host}/employees'\n",
    "\n"
   ]
  },
  {
   "cell_type": "code",
   "execution_count": 52,
   "id": "bec500af",
   "metadata": {},
   "outputs": [],
   "source": [
    "#Is there a relationship between how long an employee has been with the company and their salary\n",
    "query = '''\n",
    "select *\n",
    "from employees\n",
    "    join salaries\n",
    "        using(emp_no)\n",
    "where to_date = '9999-01-01'\n",
    "\n",
    "'''"
   ]
  },
  {
   "cell_type": "code",
   "execution_count": 53,
   "id": "f9ab645d",
   "metadata": {},
   "outputs": [],
   "source": [
    "df = pd.read_sql(query,url)"
   ]
  },
  {
   "cell_type": "code",
   "execution_count": 54,
   "id": "b137fa04",
   "metadata": {},
   "outputs": [
    {
     "data": {
      "text/html": [
       "<div>\n",
       "<style scoped>\n",
       "    .dataframe tbody tr th:only-of-type {\n",
       "        vertical-align: middle;\n",
       "    }\n",
       "\n",
       "    .dataframe tbody tr th {\n",
       "        vertical-align: top;\n",
       "    }\n",
       "\n",
       "    .dataframe thead th {\n",
       "        text-align: right;\n",
       "    }\n",
       "</style>\n",
       "<table border=\"1\" class=\"dataframe\">\n",
       "  <thead>\n",
       "    <tr style=\"text-align: right;\">\n",
       "      <th></th>\n",
       "      <th>emp_no</th>\n",
       "      <th>birth_date</th>\n",
       "      <th>first_name</th>\n",
       "      <th>last_name</th>\n",
       "      <th>gender</th>\n",
       "      <th>hire_date</th>\n",
       "      <th>salary</th>\n",
       "      <th>from_date</th>\n",
       "      <th>to_date</th>\n",
       "    </tr>\n",
       "  </thead>\n",
       "  <tbody>\n",
       "    <tr>\n",
       "      <th>0</th>\n",
       "      <td>10001</td>\n",
       "      <td>1953-09-02</td>\n",
       "      <td>Georgi</td>\n",
       "      <td>Facello</td>\n",
       "      <td>M</td>\n",
       "      <td>1986-06-26</td>\n",
       "      <td>88958</td>\n",
       "      <td>2002-06-22</td>\n",
       "      <td>9999-01-01</td>\n",
       "    </tr>\n",
       "    <tr>\n",
       "      <th>1</th>\n",
       "      <td>10002</td>\n",
       "      <td>1964-06-02</td>\n",
       "      <td>Bezalel</td>\n",
       "      <td>Simmel</td>\n",
       "      <td>F</td>\n",
       "      <td>1985-11-21</td>\n",
       "      <td>72527</td>\n",
       "      <td>2001-08-02</td>\n",
       "      <td>9999-01-01</td>\n",
       "    </tr>\n",
       "    <tr>\n",
       "      <th>2</th>\n",
       "      <td>10003</td>\n",
       "      <td>1959-12-03</td>\n",
       "      <td>Parto</td>\n",
       "      <td>Bamford</td>\n",
       "      <td>M</td>\n",
       "      <td>1986-08-28</td>\n",
       "      <td>43311</td>\n",
       "      <td>2001-12-01</td>\n",
       "      <td>9999-01-01</td>\n",
       "    </tr>\n",
       "    <tr>\n",
       "      <th>3</th>\n",
       "      <td>10004</td>\n",
       "      <td>1954-05-01</td>\n",
       "      <td>Chirstian</td>\n",
       "      <td>Koblick</td>\n",
       "      <td>M</td>\n",
       "      <td>1986-12-01</td>\n",
       "      <td>74057</td>\n",
       "      <td>2001-11-27</td>\n",
       "      <td>9999-01-01</td>\n",
       "    </tr>\n",
       "    <tr>\n",
       "      <th>4</th>\n",
       "      <td>10005</td>\n",
       "      <td>1955-01-21</td>\n",
       "      <td>Kyoichi</td>\n",
       "      <td>Maliniak</td>\n",
       "      <td>M</td>\n",
       "      <td>1989-09-12</td>\n",
       "      <td>94692</td>\n",
       "      <td>2001-09-09</td>\n",
       "      <td>9999-01-01</td>\n",
       "    </tr>\n",
       "  </tbody>\n",
       "</table>\n",
       "</div>"
      ],
      "text/plain": [
       "   emp_no  birth_date first_name last_name gender   hire_date  salary  \\\n",
       "0   10001  1953-09-02     Georgi   Facello      M  1986-06-26   88958   \n",
       "1   10002  1964-06-02    Bezalel    Simmel      F  1985-11-21   72527   \n",
       "2   10003  1959-12-03      Parto   Bamford      M  1986-08-28   43311   \n",
       "3   10004  1954-05-01  Chirstian   Koblick      M  1986-12-01   74057   \n",
       "4   10005  1955-01-21    Kyoichi  Maliniak      M  1989-09-12   94692   \n",
       "\n",
       "    from_date     to_date  \n",
       "0  2002-06-22  9999-01-01  \n",
       "1  2001-08-02  9999-01-01  \n",
       "2  2001-12-01  9999-01-01  \n",
       "3  2001-11-27  9999-01-01  \n",
       "4  2001-09-09  9999-01-01  "
      ]
     },
     "execution_count": 54,
     "metadata": {},
     "output_type": "execute_result"
    }
   ],
   "source": [
    "df.head()"
   ]
  },
  {
   "cell_type": "code",
   "execution_count": 55,
   "id": "03e63480",
   "metadata": {},
   "outputs": [
    {
     "data": {
      "text/plain": [
       "9999-01-01    240124\n",
       "Name: to_date, dtype: int64"
      ]
     },
     "execution_count": 55,
     "metadata": {},
     "output_type": "execute_result"
    }
   ],
   "source": [
    "df.to_date.value_counts()"
   ]
  },
  {
   "cell_type": "code",
   "execution_count": 56,
   "id": "c2931d60",
   "metadata": {},
   "outputs": [
    {
     "data": {
      "text/plain": [
       "1985-06-06    114\n",
       "1985-12-12    110\n",
       "1985-05-11    109\n",
       "1985-06-20    109\n",
       "1985-03-21    106\n",
       "             ... \n",
       "1999-12-18      1\n",
       "2000-01-04      1\n",
       "1999-07-03      1\n",
       "1999-09-26      1\n",
       "2000-01-22      1\n",
       "Name: hire_date, Length: 5425, dtype: int64"
      ]
     },
     "execution_count": 56,
     "metadata": {},
     "output_type": "execute_result"
    }
   ],
   "source": [
    "df.hire_date.value_counts()"
   ]
  },
  {
   "cell_type": "code",
   "execution_count": 57,
   "id": "110820c1",
   "metadata": {
    "scrolled": true
   },
   "outputs": [
    {
     "data": {
      "text/plain": [
       "0         2926512 days, 0:00:00\n",
       "1         2926729 days, 0:00:00\n",
       "2         2926449 days, 0:00:00\n",
       "3         2926354 days, 0:00:00\n",
       "4         2925338 days, 0:00:00\n",
       "                  ...          \n",
       "240119    2924120 days, 0:00:00\n",
       "240120    2924958 days, 0:00:00\n",
       "240121    2926578 days, 0:00:00\n",
       "240122    2923846 days, 0:00:00\n",
       "240123    2922337 days, 0:00:00\n",
       "Length: 240124, dtype: object"
      ]
     },
     "execution_count": 57,
     "metadata": {},
     "output_type": "execute_result"
    }
   ],
   "source": [
    "(df.to_date - df.hire_date)"
   ]
  },
  {
   "cell_type": "code",
   "execution_count": 58,
   "id": "8b10fb59",
   "metadata": {},
   "outputs": [],
   "source": [
    "query = '''\n",
    "select emp_no\n",
    ", datediff(max(to_date))\n",
    "'''"
   ]
  },
  {
   "cell_type": "code",
   "execution_count": null,
   "id": "54e9b327",
   "metadata": {},
   "outputs": [],
   "source": []
  },
  {
   "cell_type": "code",
   "execution_count": null,
   "id": "9457ca46",
   "metadata": {},
   "outputs": [],
   "source": []
  },
  {
   "cell_type": "code",
   "execution_count": null,
   "id": "f624ddd2",
   "metadata": {},
   "outputs": [],
   "source": []
  },
  {
   "cell_type": "code",
   "execution_count": null,
   "id": "a48fc366",
   "metadata": {},
   "outputs": [],
   "source": []
  },
  {
   "cell_type": "code",
   "execution_count": null,
   "id": "589421cd",
   "metadata": {},
   "outputs": [],
   "source": []
  },
  {
   "cell_type": "code",
   "execution_count": 59,
   "id": "91cf4c53",
   "metadata": {},
   "outputs": [],
   "source": [
    "#---------------------------chi square exercises------------------------------------------------------------------"
   ]
  },
  {
   "cell_type": "code",
   "execution_count": 60,
   "id": "02bb4c69",
   "metadata": {},
   "outputs": [],
   "source": [
    "codeup_students = 50/100\n",
    "not_student = 50/100\n",
    "uses_mac = 69/100\n",
    "no_mac = 31/100\n",
    "\n"
   ]
  },
  {
   "cell_type": "code",
   "execution_count": 61,
   "id": "9ae4b934",
   "metadata": {},
   "outputs": [],
   "source": [
    "mac_and_student = codeup_students * uses_mac\n",
    "mac_and_nstudent = not_student * uses_mac\n",
    "nmac_and_student = codeup_students * no_mac\n",
    "nmac_and_nstudent = not_student * no_mac"
   ]
  },
  {
   "cell_type": "code",
   "execution_count": 62,
   "id": "944ac869",
   "metadata": {},
   "outputs": [],
   "source": [
    "observed = pd.data]"
   ]
  },
  {
   "cell_type": "code",
   "execution_count": 63,
   "id": "c4cc4a6a",
   "metadata": {},
   "outputs": [],
   "source": [
    "expected = [mac_and_student, mac_and_nstudent, nmac_and_student, nmac_and_nstudent]"
   ]
  },
  {
   "cell_type": "code",
   "execution_count": 74,
   "id": "4d59284d",
   "metadata": {},
   "outputs": [],
   "source": [
    "alpha = .05"
   ]
  },
  {
   "cell_type": "code",
   "execution_count": null,
   "id": "b237d786",
   "metadata": {},
   "outputs": [],
   "source": [
    "#we commin back to this"
   ]
  },
  {
   "cell_type": "code",
   "execution_count": 65,
   "id": "a398ea5c",
   "metadata": {},
   "outputs": [
    {
     "data": {
      "text/plain": [
       "manufacturer    15\n",
       "model           38\n",
       "displ           35\n",
       "year             2\n",
       "cyl              4\n",
       "trans           10\n",
       "drv              3\n",
       "cty             21\n",
       "hwy             27\n",
       "fl               5\n",
       "class            7\n",
       "avg_fe          78\n",
       "dtype: int64"
      ]
     },
     "execution_count": 65,
     "metadata": {},
     "output_type": "execute_result"
    }
   ],
   "source": [
    "mpg.nunique()"
   ]
  },
  {
   "cell_type": "code",
   "execution_count": 66,
   "id": "badb8b3d",
   "metadata": {},
   "outputs": [
    {
     "data": {
      "text/plain": [
       "f    106\n",
       "4    103\n",
       "r     25\n",
       "Name: drv, dtype: int64"
      ]
     },
     "execution_count": 66,
     "metadata": {},
     "output_type": "execute_result"
    }
   ],
   "source": [
    "mpg.drv.value_counts()"
   ]
  },
  {
   "cell_type": "code",
   "execution_count": 67,
   "id": "39f20e83",
   "metadata": {},
   "outputs": [],
   "source": [
    "#hnull = drive type is independent of manufacturer\n",
    "#halt = drive type is dependent on manufacturer\n"
   ]
  },
  {
   "cell_type": "code",
   "execution_count": 68,
   "id": "3f2d9b3f",
   "metadata": {},
   "outputs": [
    {
     "data": {
      "text/html": [
       "<div>\n",
       "<style scoped>\n",
       "    .dataframe tbody tr th:only-of-type {\n",
       "        vertical-align: middle;\n",
       "    }\n",
       "\n",
       "    .dataframe tbody tr th {\n",
       "        vertical-align: top;\n",
       "    }\n",
       "\n",
       "    .dataframe thead th {\n",
       "        text-align: right;\n",
       "    }\n",
       "</style>\n",
       "<table border=\"1\" class=\"dataframe\">\n",
       "  <thead>\n",
       "    <tr style=\"text-align: right;\">\n",
       "      <th>manufacturer</th>\n",
       "      <th>audi</th>\n",
       "      <th>chevrolet</th>\n",
       "      <th>dodge</th>\n",
       "      <th>ford</th>\n",
       "      <th>honda</th>\n",
       "      <th>hyundai</th>\n",
       "      <th>jeep</th>\n",
       "      <th>land rover</th>\n",
       "      <th>lincoln</th>\n",
       "      <th>mercury</th>\n",
       "      <th>nissan</th>\n",
       "      <th>pontiac</th>\n",
       "      <th>subaru</th>\n",
       "      <th>toyota</th>\n",
       "      <th>volkswagen</th>\n",
       "      <th>All</th>\n",
       "    </tr>\n",
       "    <tr>\n",
       "      <th>drv</th>\n",
       "      <th></th>\n",
       "      <th></th>\n",
       "      <th></th>\n",
       "      <th></th>\n",
       "      <th></th>\n",
       "      <th></th>\n",
       "      <th></th>\n",
       "      <th></th>\n",
       "      <th></th>\n",
       "      <th></th>\n",
       "      <th></th>\n",
       "      <th></th>\n",
       "      <th></th>\n",
       "      <th></th>\n",
       "      <th></th>\n",
       "      <th></th>\n",
       "    </tr>\n",
       "  </thead>\n",
       "  <tbody>\n",
       "    <tr>\n",
       "      <th>4</th>\n",
       "      <td>11</td>\n",
       "      <td>4</td>\n",
       "      <td>26</td>\n",
       "      <td>13</td>\n",
       "      <td>0</td>\n",
       "      <td>0</td>\n",
       "      <td>8</td>\n",
       "      <td>4</td>\n",
       "      <td>0</td>\n",
       "      <td>4</td>\n",
       "      <td>4</td>\n",
       "      <td>0</td>\n",
       "      <td>14</td>\n",
       "      <td>15</td>\n",
       "      <td>0</td>\n",
       "      <td>103</td>\n",
       "    </tr>\n",
       "    <tr>\n",
       "      <th>f</th>\n",
       "      <td>7</td>\n",
       "      <td>5</td>\n",
       "      <td>11</td>\n",
       "      <td>0</td>\n",
       "      <td>9</td>\n",
       "      <td>14</td>\n",
       "      <td>0</td>\n",
       "      <td>0</td>\n",
       "      <td>0</td>\n",
       "      <td>0</td>\n",
       "      <td>9</td>\n",
       "      <td>5</td>\n",
       "      <td>0</td>\n",
       "      <td>19</td>\n",
       "      <td>27</td>\n",
       "      <td>106</td>\n",
       "    </tr>\n",
       "    <tr>\n",
       "      <th>r</th>\n",
       "      <td>0</td>\n",
       "      <td>10</td>\n",
       "      <td>0</td>\n",
       "      <td>12</td>\n",
       "      <td>0</td>\n",
       "      <td>0</td>\n",
       "      <td>0</td>\n",
       "      <td>0</td>\n",
       "      <td>3</td>\n",
       "      <td>0</td>\n",
       "      <td>0</td>\n",
       "      <td>0</td>\n",
       "      <td>0</td>\n",
       "      <td>0</td>\n",
       "      <td>0</td>\n",
       "      <td>25</td>\n",
       "    </tr>\n",
       "    <tr>\n",
       "      <th>All</th>\n",
       "      <td>18</td>\n",
       "      <td>19</td>\n",
       "      <td>37</td>\n",
       "      <td>25</td>\n",
       "      <td>9</td>\n",
       "      <td>14</td>\n",
       "      <td>8</td>\n",
       "      <td>4</td>\n",
       "      <td>3</td>\n",
       "      <td>4</td>\n",
       "      <td>13</td>\n",
       "      <td>5</td>\n",
       "      <td>14</td>\n",
       "      <td>34</td>\n",
       "      <td>27</td>\n",
       "      <td>234</td>\n",
       "    </tr>\n",
       "  </tbody>\n",
       "</table>\n",
       "</div>"
      ],
      "text/plain": [
       "manufacturer  audi  chevrolet  dodge  ford  honda  hyundai  jeep  land rover  \\\n",
       "drv                                                                            \n",
       "4               11          4     26    13      0        0     8           4   \n",
       "f                7          5     11     0      9       14     0           0   \n",
       "r                0         10      0    12      0        0     0           0   \n",
       "All             18         19     37    25      9       14     8           4   \n",
       "\n",
       "manufacturer  lincoln  mercury  nissan  pontiac  subaru  toyota  volkswagen  \\\n",
       "drv                                                                           \n",
       "4                   0        4       4        0      14      15           0   \n",
       "f                   0        0       9        5       0      19          27   \n",
       "r                   3        0       0        0       0       0           0   \n",
       "All                 3        4      13        5      14      34          27   \n",
       "\n",
       "manufacturer  All  \n",
       "drv                \n",
       "4             103  \n",
       "f             106  \n",
       "r              25  \n",
       "All           234  "
      ]
     },
     "execution_count": 68,
     "metadata": {},
     "output_type": "execute_result"
    }
   ],
   "source": [
    "pd.crosstab(mpg.drv,mpg.manufacturer, margins = True)"
   ]
  },
  {
   "cell_type": "code",
   "execution_count": 69,
   "id": "81ce1b90",
   "metadata": {},
   "outputs": [],
   "source": [
    "observed = pd.crosstab(mpg.drv,mpg.manufacturer)"
   ]
  },
  {
   "cell_type": "code",
   "execution_count": 70,
   "id": "45c06d65",
   "metadata": {},
   "outputs": [],
   "source": [
    "chi2, p, degf, expected = stats.chi2_contingency(observed)"
   ]
  },
  {
   "cell_type": "code",
   "execution_count": 71,
   "id": "0f716e8b",
   "metadata": {},
   "outputs": [
    {
     "name": "stdout",
     "output_type": "stream",
     "text": [
      "Observed\n",
      "[[11  4 26 13  0  0  8  4  0  4  4  0 14 15  0]\n",
      " [ 7  5 11  0  9 14  0  0  0  0  9  5  0 19 27]\n",
      " [ 0 10  0 12  0  0  0  0  3  0  0  0  0  0  0]]\n",
      "\n",
      "Expected\n",
      "[[ 7  8 16 11  3  6  3  1  1  1  5  2  6 14 11]\n",
      " [ 8  8 16 11  4  6  3  1  1  1  5  2  6 15 12]\n",
      " [ 1  2  3  2  0  1  0  0  0  0  1  0  1  3  2]]\n",
      "\n",
      "----\n",
      "chi^2 = 232.0345\n",
      "p     = 0.0000\n"
     ]
    }
   ],
   "source": [
    "print('Observed')\n",
    "print(observed.values)\n",
    "print('\\nExpected')\n",
    "print(expected.astype(int))\n",
    "print('\\n----')\n",
    "print(f'chi^2 = {chi2:.4f}')\n",
    "print(f'p     = {p:.4f}')"
   ]
  },
  {
   "cell_type": "code",
   "execution_count": 72,
   "id": "ed05e514",
   "metadata": {},
   "outputs": [
    {
     "name": "stdout",
     "output_type": "stream",
     "text": [
      "We reject the null\n"
     ]
    }
   ],
   "source": [
    "if p < alpha:\n",
    "    print('We reject the null')\n",
    "else:\n",
    "    print(\"we fail to reject the null\")"
   ]
  },
  {
   "cell_type": "code",
   "execution_count": 73,
   "id": "d09fd53a",
   "metadata": {},
   "outputs": [],
   "source": [
    "#This means there is a relationship between manufacturer and drive type\n",
    "#hnull = an employees gender is independent of whether they work in sales or marketing \n",
    "#halt = an employees gender is dependent on whether they work in sales or marketing"
   ]
  },
  {
   "cell_type": "code",
   "execution_count": 77,
   "id": "4a8f74a3",
   "metadata": {},
   "outputs": [],
   "source": [
    "query = '''\n",
    "SELECT * FROM dept_emp\n",
    "join employees using(emp_no)\n",
    "join departments using(dept_no);\n",
    "'''"
   ]
  },
  {
   "cell_type": "code",
   "execution_count": 83,
   "id": "ed291d9c",
   "metadata": {},
   "outputs": [],
   "source": [
    "newdf = df[(df.dept_name == 'Sales') | (df.dept_name == 'Marketing')]"
   ]
  },
  {
   "cell_type": "code",
   "execution_count": 86,
   "id": "ee686fad",
   "metadata": {},
   "outputs": [],
   "source": [
    "df = pd.read_sql(query,url)"
   ]
  },
  {
   "cell_type": "code",
   "execution_count": 90,
   "id": "ca76e98e",
   "metadata": {},
   "outputs": [
    {
     "data": {
      "text/plain": [
       "0         F\n",
       "1         M\n",
       "2         F\n",
       "3         M\n",
       "4         F\n",
       "         ..\n",
       "331598    M\n",
       "331599    M\n",
       "331600    F\n",
       "331601    F\n",
       "331602    F\n",
       "Name: gender, Length: 331603, dtype: object"
      ]
     },
     "execution_count": 90,
     "metadata": {},
     "output_type": "execute_result"
    }
   ],
   "source": [
    "df.gender\n"
   ]
  },
  {
   "cell_type": "code",
   "execution_count": 92,
   "id": "27129759",
   "metadata": {},
   "outputs": [],
   "source": [
    "observed = pd.crosstab(df.gender,newdf.dept_name)"
   ]
  },
  {
   "cell_type": "code",
   "execution_count": 96,
   "id": "de3316f4",
   "metadata": {},
   "outputs": [
    {
     "data": {
      "text/html": [
       "<div>\n",
       "<style scoped>\n",
       "    .dataframe tbody tr th:only-of-type {\n",
       "        vertical-align: middle;\n",
       "    }\n",
       "\n",
       "    .dataframe tbody tr th {\n",
       "        vertical-align: top;\n",
       "    }\n",
       "\n",
       "    .dataframe thead th {\n",
       "        text-align: right;\n",
       "    }\n",
       "</style>\n",
       "<table border=\"1\" class=\"dataframe\">\n",
       "  <thead>\n",
       "    <tr style=\"text-align: right;\">\n",
       "      <th>dept_name</th>\n",
       "      <th>Marketing</th>\n",
       "      <th>Sales</th>\n",
       "    </tr>\n",
       "    <tr>\n",
       "      <th>gender</th>\n",
       "      <th></th>\n",
       "      <th></th>\n",
       "    </tr>\n",
       "  </thead>\n",
       "  <tbody>\n",
       "    <tr>\n",
       "      <th>F</th>\n",
       "      <td>8037</td>\n",
       "      <td>20854</td>\n",
       "    </tr>\n",
       "    <tr>\n",
       "      <th>M</th>\n",
       "      <td>12174</td>\n",
       "      <td>31391</td>\n",
       "    </tr>\n",
       "  </tbody>\n",
       "</table>\n",
       "</div>"
      ],
      "text/plain": [
       "dept_name  Marketing  Sales\n",
       "gender                     \n",
       "F               8037  20854\n",
       "M              12174  31391"
      ]
     },
     "execution_count": 96,
     "metadata": {},
     "output_type": "execute_result"
    }
   ],
   "source": [
    "observed"
   ]
  },
  {
   "cell_type": "code",
   "execution_count": 93,
   "id": "d14f79cf",
   "metadata": {},
   "outputs": [],
   "source": [
    "chi2, p, degf, expected = stats.chi2_contingency(observed)"
   ]
  },
  {
   "cell_type": "code",
   "execution_count": 94,
   "id": "94ceb394",
   "metadata": {},
   "outputs": [
    {
     "name": "stdout",
     "output_type": "stream",
     "text": [
      "Observed\n",
      "[[ 8037 20854]\n",
      " [12174 31391]]\n",
      "\n",
      "Expected\n",
      "[[ 8058 20832]\n",
      " [12152 31412]]\n",
      "\n",
      "----\n",
      "chi^2 = 0.1311\n",
      "p     = 0.7173\n"
     ]
    }
   ],
   "source": [
    "print('Observed')\n",
    "print(observed.values)\n",
    "print('\\nExpected')\n",
    "print(expected.astype(int))\n",
    "print('\\n----')\n",
    "print(f'chi^2 = {chi2:.4f}')\n",
    "print(f'p     = {p:.4f}')"
   ]
  },
  {
   "cell_type": "code",
   "execution_count": 95,
   "id": "3d344e8a",
   "metadata": {},
   "outputs": [
    {
     "name": "stdout",
     "output_type": "stream",
     "text": [
      "we fail to reject the null\n"
     ]
    }
   ],
   "source": [
    "if p < alpha:\n",
    "    print('We reject the null')\n",
    "else:\n",
    "    print(\"we fail to reject the null\")"
   ]
  },
  {
   "cell_type": "code",
   "execution_count": 97,
   "id": "bbfc8ab0",
   "metadata": {},
   "outputs": [],
   "source": [
    "#gender is independent of whether someone works in sales or marketing"
   ]
  },
  {
   "cell_type": "code",
   "execution_count": null,
   "id": "6034ba93",
   "metadata": {},
   "outputs": [],
   "source": [
    "#hnull= someone becoming a manager is not dependent on gender\n",
    "#halt = someone becoming a manager is dependent on gender"
   ]
  },
  {
   "cell_type": "code",
   "execution_count": 109,
   "id": "bfb1ae35",
   "metadata": {},
   "outputs": [],
   "source": [
    "query = '''\n",
    "SELECT employees.emp_no, employees.gender, dept_manager.dept_no FROM employees\n",
    "left join dept_manager on dept_manager.emp_no = employees.emp_no;\n",
    "'''"
   ]
  },
  {
   "cell_type": "code",
   "execution_count": 110,
   "id": "d25fa732",
   "metadata": {},
   "outputs": [],
   "source": [
    "df = pd.read_sql(query,url)"
   ]
  },
  {
   "cell_type": "code",
   "execution_count": 131,
   "id": "2a3e3e2d",
   "metadata": {},
   "outputs": [],
   "source": [
    "yo = df.dept_no.isnull()"
   ]
  },
  {
   "cell_type": "code",
   "execution_count": 155,
   "id": "e2b04c6b",
   "metadata": {},
   "outputs": [
    {
     "data": {
      "text/plain": [
       "True     300000\n",
       "False        24\n",
       "Name: manager, dtype: int64"
      ]
     },
     "execution_count": 155,
     "metadata": {},
     "output_type": "execute_result"
    }
   ],
   "source": [
    "df.manager.value_counts()"
   ]
  },
  {
   "cell_type": "code",
   "execution_count": 148,
   "id": "5c1b4418",
   "metadata": {},
   "outputs": [],
   "source": [
    "df['manager'] = yo"
   ]
  },
  {
   "cell_type": "code",
   "execution_count": 147,
   "id": "0a5e0088",
   "metadata": {},
   "outputs": [
    {
     "data": {
      "text/html": [
       "<div>\n",
       "<style scoped>\n",
       "    .dataframe tbody tr th:only-of-type {\n",
       "        vertical-align: middle;\n",
       "    }\n",
       "\n",
       "    .dataframe tbody tr th {\n",
       "        vertical-align: top;\n",
       "    }\n",
       "\n",
       "    .dataframe thead th {\n",
       "        text-align: right;\n",
       "    }\n",
       "</style>\n",
       "<table border=\"1\" class=\"dataframe\">\n",
       "  <thead>\n",
       "    <tr style=\"text-align: right;\">\n",
       "      <th></th>\n",
       "      <th>emp_no</th>\n",
       "      <th>gender</th>\n",
       "      <th>dept_no</th>\n",
       "      <th>manager</th>\n",
       "    </tr>\n",
       "  </thead>\n",
       "  <tbody>\n",
       "    <tr>\n",
       "      <th>100000</th>\n",
       "      <td>110022</td>\n",
       "      <td>M</td>\n",
       "      <td>d001</td>\n",
       "      <td>False</td>\n",
       "    </tr>\n",
       "    <tr>\n",
       "      <th>100001</th>\n",
       "      <td>110039</td>\n",
       "      <td>M</td>\n",
       "      <td>d001</td>\n",
       "      <td>False</td>\n",
       "    </tr>\n",
       "    <tr>\n",
       "      <th>100002</th>\n",
       "      <td>110085</td>\n",
       "      <td>M</td>\n",
       "      <td>d002</td>\n",
       "      <td>False</td>\n",
       "    </tr>\n",
       "    <tr>\n",
       "      <th>100003</th>\n",
       "      <td>110114</td>\n",
       "      <td>F</td>\n",
       "      <td>d002</td>\n",
       "      <td>False</td>\n",
       "    </tr>\n",
       "    <tr>\n",
       "      <th>100004</th>\n",
       "      <td>110183</td>\n",
       "      <td>F</td>\n",
       "      <td>d003</td>\n",
       "      <td>False</td>\n",
       "    </tr>\n",
       "    <tr>\n",
       "      <th>100005</th>\n",
       "      <td>110228</td>\n",
       "      <td>F</td>\n",
       "      <td>d003</td>\n",
       "      <td>False</td>\n",
       "    </tr>\n",
       "    <tr>\n",
       "      <th>100006</th>\n",
       "      <td>110303</td>\n",
       "      <td>F</td>\n",
       "      <td>d004</td>\n",
       "      <td>False</td>\n",
       "    </tr>\n",
       "    <tr>\n",
       "      <th>100007</th>\n",
       "      <td>110344</td>\n",
       "      <td>F</td>\n",
       "      <td>d004</td>\n",
       "      <td>False</td>\n",
       "    </tr>\n",
       "    <tr>\n",
       "      <th>100008</th>\n",
       "      <td>110386</td>\n",
       "      <td>M</td>\n",
       "      <td>d004</td>\n",
       "      <td>False</td>\n",
       "    </tr>\n",
       "    <tr>\n",
       "      <th>100009</th>\n",
       "      <td>110420</td>\n",
       "      <td>M</td>\n",
       "      <td>d004</td>\n",
       "      <td>False</td>\n",
       "    </tr>\n",
       "    <tr>\n",
       "      <th>100010</th>\n",
       "      <td>110511</td>\n",
       "      <td>M</td>\n",
       "      <td>d005</td>\n",
       "      <td>False</td>\n",
       "    </tr>\n",
       "    <tr>\n",
       "      <th>100011</th>\n",
       "      <td>110567</td>\n",
       "      <td>F</td>\n",
       "      <td>d005</td>\n",
       "      <td>False</td>\n",
       "    </tr>\n",
       "    <tr>\n",
       "      <th>100012</th>\n",
       "      <td>110725</td>\n",
       "      <td>F</td>\n",
       "      <td>d006</td>\n",
       "      <td>False</td>\n",
       "    </tr>\n",
       "    <tr>\n",
       "      <th>100013</th>\n",
       "      <td>110765</td>\n",
       "      <td>F</td>\n",
       "      <td>d006</td>\n",
       "      <td>False</td>\n",
       "    </tr>\n",
       "    <tr>\n",
       "      <th>100014</th>\n",
       "      <td>110800</td>\n",
       "      <td>F</td>\n",
       "      <td>d006</td>\n",
       "      <td>False</td>\n",
       "    </tr>\n",
       "    <tr>\n",
       "      <th>100015</th>\n",
       "      <td>110854</td>\n",
       "      <td>M</td>\n",
       "      <td>d006</td>\n",
       "      <td>False</td>\n",
       "    </tr>\n",
       "    <tr>\n",
       "      <th>100016</th>\n",
       "      <td>111035</td>\n",
       "      <td>M</td>\n",
       "      <td>d007</td>\n",
       "      <td>False</td>\n",
       "    </tr>\n",
       "    <tr>\n",
       "      <th>100017</th>\n",
       "      <td>111133</td>\n",
       "      <td>M</td>\n",
       "      <td>d007</td>\n",
       "      <td>False</td>\n",
       "    </tr>\n",
       "    <tr>\n",
       "      <th>100018</th>\n",
       "      <td>111400</td>\n",
       "      <td>M</td>\n",
       "      <td>d008</td>\n",
       "      <td>False</td>\n",
       "    </tr>\n",
       "    <tr>\n",
       "      <th>100019</th>\n",
       "      <td>111534</td>\n",
       "      <td>F</td>\n",
       "      <td>d008</td>\n",
       "      <td>False</td>\n",
       "    </tr>\n",
       "    <tr>\n",
       "      <th>100020</th>\n",
       "      <td>111692</td>\n",
       "      <td>F</td>\n",
       "      <td>d009</td>\n",
       "      <td>False</td>\n",
       "    </tr>\n",
       "    <tr>\n",
       "      <th>100021</th>\n",
       "      <td>111784</td>\n",
       "      <td>F</td>\n",
       "      <td>d009</td>\n",
       "      <td>False</td>\n",
       "    </tr>\n",
       "    <tr>\n",
       "      <th>100022</th>\n",
       "      <td>111877</td>\n",
       "      <td>F</td>\n",
       "      <td>d009</td>\n",
       "      <td>False</td>\n",
       "    </tr>\n",
       "    <tr>\n",
       "      <th>100023</th>\n",
       "      <td>111939</td>\n",
       "      <td>M</td>\n",
       "      <td>d009</td>\n",
       "      <td>False</td>\n",
       "    </tr>\n",
       "  </tbody>\n",
       "</table>\n",
       "</div>"
      ],
      "text/plain": [
       "        emp_no gender dept_no  manager\n",
       "100000  110022      M    d001    False\n",
       "100001  110039      M    d001    False\n",
       "100002  110085      M    d002    False\n",
       "100003  110114      F    d002    False\n",
       "100004  110183      F    d003    False\n",
       "100005  110228      F    d003    False\n",
       "100006  110303      F    d004    False\n",
       "100007  110344      F    d004    False\n",
       "100008  110386      M    d004    False\n",
       "100009  110420      M    d004    False\n",
       "100010  110511      M    d005    False\n",
       "100011  110567      F    d005    False\n",
       "100012  110725      F    d006    False\n",
       "100013  110765      F    d006    False\n",
       "100014  110800      F    d006    False\n",
       "100015  110854      M    d006    False\n",
       "100016  111035      M    d007    False\n",
       "100017  111133      M    d007    False\n",
       "100018  111400      M    d008    False\n",
       "100019  111534      F    d008    False\n",
       "100020  111692      F    d009    False\n",
       "100021  111784      F    d009    False\n",
       "100022  111877      F    d009    False\n",
       "100023  111939      M    d009    False"
      ]
     },
     "execution_count": 147,
     "metadata": {},
     "output_type": "execute_result"
    }
   ],
   "source": [
    "df[df.manager == False]"
   ]
  },
  {
   "cell_type": "code",
   "execution_count": 156,
   "id": "9d0fee9b",
   "metadata": {},
   "outputs": [],
   "source": [
    "observed = pd.crosstab(df.gender,df.manager)"
   ]
  },
  {
   "cell_type": "code",
   "execution_count": 157,
   "id": "10ec20f1",
   "metadata": {},
   "outputs": [],
   "source": [
    "chi2, p, degf, expected = stats.chi2_contingency(observed)"
   ]
  },
  {
   "cell_type": "code",
   "execution_count": 158,
   "id": "57b27683",
   "metadata": {},
   "outputs": [
    {
     "name": "stdout",
     "output_type": "stream",
     "text": [
      "Observed\n",
      "[[    13 120038]\n",
      " [    11 179962]]\n",
      "\n",
      "Expected\n",
      "[[     9 120041]\n",
      " [    14 179958]]\n",
      "\n",
      "----\n",
      "chi^2 = 1.4567\n",
      "p     = 0.2275\n"
     ]
    }
   ],
   "source": [
    "print('Observed')\n",
    "print(observed.values)\n",
    "print('\\nExpected')\n",
    "print(expected.astype(int))\n",
    "print('\\n----')\n",
    "print(f'chi^2 = {chi2:.4f}')\n",
    "print(f'p     = {p:.4f}')"
   ]
  },
  {
   "cell_type": "code",
   "execution_count": 153,
   "id": "2ea1cf0e",
   "metadata": {},
   "outputs": [
    {
     "name": "stdout",
     "output_type": "stream",
     "text": [
      "we fail to reject the null\n"
     ]
    }
   ],
   "source": [
    "if p < alpha:\n",
    "    print('We reject the null')\n",
    "else:\n",
    "    print(\"we fail to reject the null\")"
   ]
  },
  {
   "cell_type": "code",
   "execution_count": null,
   "id": "36b6ed0e",
   "metadata": {},
   "outputs": [],
   "source": [
    "#someone become a manager is independent of their gender"
   ]
  }
 ],
 "metadata": {
  "kernelspec": {
   "display_name": "Python 3 (ipykernel)",
   "language": "python",
   "name": "python3"
  },
  "language_info": {
   "codemirror_mode": {
    "name": "ipython",
    "version": 3
   },
   "file_extension": ".py",
   "mimetype": "text/x-python",
   "name": "python",
   "nbconvert_exporter": "python",
   "pygments_lexer": "ipython3",
   "version": "3.9.12"
  }
 },
 "nbformat": 4,
 "nbformat_minor": 5
}
